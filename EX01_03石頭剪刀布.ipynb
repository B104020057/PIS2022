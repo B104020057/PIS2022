{
  "nbformat": 4,
  "nbformat_minor": 0,
  "metadata": {
    "colab": {
      "provenance": [],
      "authorship_tag": "ABX9TyM+S0DCnDFDv+KXCpQoZzn3",
      "include_colab_link": true
    },
    "kernelspec": {
      "name": "python3",
      "display_name": "Python 3"
    },
    "language_info": {
      "name": "python"
    }
  },
  "cells": [
    {
      "cell_type": "markdown",
      "metadata": {
        "id": "view-in-github",
        "colab_type": "text"
      },
      "source": [
        "<a href=\"https://colab.research.google.com/github/B104020057/PIS2022/blob/main/EX01_03%E7%9F%B3%E9%A0%AD%E5%89%AA%E5%88%80%E5%B8%83.ipynb\" target=\"_parent\"><img src=\"https://colab.research.google.com/assets/colab-badge.svg\" alt=\"Open In Colab\"/></a>"
      ]
    },
    {
      "cell_type": "code",
      "execution_count": 1,
      "metadata": {
        "colab": {
          "base_uri": "https://localhost:8080/"
        },
        "id": "lKmFA7Q0Qx5Z",
        "outputId": "c89757e5-51be-464c-a274-b1bc51639432"
      },
      "outputs": [
        {
          "output_type": "stream",
          "name": "stdout",
          "text": [
            "2\n",
            "random 5\n",
            "You Win\n"
          ]
        }
      ],
      "source": [
        "import random\n",
        "\n",
        "player = int(input())\n",
        "ram = random.choice([0,2,5])\n",
        "print('random',ram)\n",
        "if player == ram :\n",
        "  print('Draw')\n",
        "elif (player == 0 and ram == 2) or (player == 2 and ram == 5) or (player == 5 and ram == 0):\n",
        "  print('You Win')\n",
        "else:\n",
        "  print('You Lose')"
      ]
    }
  ]
}