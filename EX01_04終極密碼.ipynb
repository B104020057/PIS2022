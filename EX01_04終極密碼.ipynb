{
  "nbformat": 4,
  "nbformat_minor": 0,
  "metadata": {
    "colab": {
      "provenance": [],
      "authorship_tag": "ABX9TyOWBz+p4BPvSld2AWuRk5Hh",
      "include_colab_link": true
    },
    "kernelspec": {
      "name": "python3",
      "display_name": "Python 3"
    },
    "language_info": {
      "name": "python"
    }
  },
  "cells": [
    {
      "cell_type": "markdown",
      "metadata": {
        "id": "view-in-github",
        "colab_type": "text"
      },
      "source": [
        "<a href=\"https://colab.research.google.com/github/B104020057/PIS2022/blob/main/EX01_04%E7%B5%82%E6%A5%B5%E5%AF%86%E7%A2%BC.ipynb\" target=\"_parent\"><img src=\"https://colab.research.google.com/assets/colab-badge.svg\" alt=\"Open In Colab\"/></a>"
      ]
    },
    {
      "cell_type": "code",
      "execution_count": 4,
      "metadata": {
        "colab": {
          "base_uri": "https://localhost:8080/"
        },
        "id": "6FscQd5H3SCt",
        "outputId": "e8d29a5d-69ee-420c-9dee-16705059c9a8"
      },
      "outputs": [
        {
          "output_type": "stream",
          "name": "stdout",
          "text": [
            "0 - 100\n",
            "guess:66\n",
            "0 - 66\n",
            "guess:40\n",
            "0 - 40\n",
            "guess:20\n",
            "20 - 40\n",
            "guess:30\n",
            "30 - 40\n",
            "guess:33\n",
            "33 - 40\n",
            "guess:38\n",
            "33 - 38\n",
            "guess:35\n",
            "Bomb!\n"
          ]
        }
      ],
      "source": [
        "from os import lockf\n",
        "import random\n",
        "# 隨機生成1～99的炸彈數字\n",
        "bomb = random.randint(1,99)\n",
        "\n",
        "# 旗標法定位\n",
        "# 範圍0～100，設旗0=左邊界；100=右邊界（使用者輸入的數字不能超過左右邊界）\n",
        "# 炸彈數字在0～100之間，四種可能（炸彈數字、比炸彈數字小、比炸彈數字大、輸入0～100以外的數字）\n",
        "# 猜到比炸彈數字小，重新設旗左邊界；反之亦然。\n",
        "\n",
        "lf = 0\n",
        "rf = 100\n",
        "\n",
        "while True:\n",
        "    print(lf,'-',rf)\n",
        "    gu = int(input('guess:'))\n",
        "    # Overrange\n",
        "    if gu <= lf or gu >= rf:\n",
        "        print('Out of range')\n",
        "        continue\n",
        "    # smallerthan\n",
        "    elif gu < bomb:\n",
        "        lf = gu\n",
        "    # largerthan\n",
        "    elif gu > bomb:\n",
        "        rf = gu\n",
        "    # Bomb\n",
        "    else:\n",
        "        print('Bomb!')\n",
        "        break"
      ]
    }
  ]
}