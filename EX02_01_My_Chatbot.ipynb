{
  "nbformat": 4,
  "nbformat_minor": 0,
  "metadata": {
    "colab": {
      "provenance": [],
      "authorship_tag": "ABX9TyNck4GakKixXWRoGHV4jBGo",
      "include_colab_link": true
    },
    "kernelspec": {
      "name": "python3",
      "display_name": "Python 3"
    },
    "language_info": {
      "name": "python"
    }
  },
  "cells": [
    {
      "cell_type": "markdown",
      "metadata": {
        "id": "view-in-github",
        "colab_type": "text"
      },
      "source": [
        "<a href=\"https://colab.research.google.com/github/B104020057/PIS2022/blob/main/EX02_01_My_Chatbot.ipynb\" target=\"_parent\"><img src=\"https://colab.research.google.com/assets/colab-badge.svg\" alt=\"Open In Colab\"/></a>"
      ]
    },
    {
      "cell_type": "code",
      "execution_count": 2,
      "metadata": {
        "id": "qMlzZjnrR6nR"
      },
      "outputs": [],
      "source": [
        "from google.colab import userdata\n",
        "import google.generativeai as genai\n",
        "genai.configure(api_key=userdata.get('GOOGLE_API_KEY'))"
      ]
    },
    {
      "cell_type": "code",
      "source": [
        "generation_config = {\n",
        "    \"temperature\":1,\n",
        "    \"max_output_tokens\":1280\n",
        "}\n",
        "model = genai.GenerativeModel(\n",
        "    model_name = \"gemini-2.0-flash\", #產生模型（模型與版本）\n",
        "    generation_config = generation_config\n",
        ")"
      ],
      "metadata": {
        "id": "wYI9i-IwSbkv"
      },
      "execution_count": 6,
      "outputs": []
    },
    {
      "cell_type": "code",
      "source": [
        "from IPython.display import Markdown, display\n",
        "# 使用連續對話\n",
        "chat = model.start_chat(history=[])\n",
        "\n",
        "while True:\n",
        "    message = input('You:')\n",
        "    if message == \"Bye!\":\n",
        "        break\n",
        "    response = chat.send_message(message)\n",
        "    print('Bot:')\n",
        "    display(Markdown(response.text))"
      ],
      "metadata": {
        "colab": {
          "base_uri": "https://localhost:8080/",
          "height": 479
        },
        "id": "RcV7tFXISlDL",
        "outputId": "eadb980f-5669-4573-ca93-c8f47f38aa03"
      },
      "execution_count": 9,
      "outputs": [
        {
          "output_type": "stream",
          "name": "stdout",
          "text": [
            "You:Hi, who are you\n",
            "Bot:\n"
          ]
        },
        {
          "output_type": "display_data",
          "data": {
            "text/plain": [
              "<IPython.core.display.Markdown object>"
            ],
            "text/markdown": "I am a large language model, trained by Google.\n"
          },
          "metadata": {}
        },
        {
          "output_type": "stream",
          "name": "stdout",
          "text": [
            "You:my name is connie\n",
            "Bot:\n"
          ]
        },
        {
          "output_type": "display_data",
          "data": {
            "text/plain": [
              "<IPython.core.display.Markdown object>"
            ],
            "text/markdown": "It's nice to meet you, Connie! I'm glad to be chatting with you today. How can I help you?\n"
          },
          "metadata": {}
        },
        {
          "output_type": "stream",
          "name": "stdout",
          "text": [
            "You:can you tell me a 冷笑話?\n",
            "Bot:\n"
          ]
        },
        {
          "output_type": "display_data",
          "data": {
            "text/plain": [
              "<IPython.core.display.Markdown object>"
            ],
            "text/markdown": "Okay, Connie, here's a 冷笑話 (lěng xiào huà - a cold joke) for you:\n\nWhy did the bicycle fall over?\n\n... Because it was two tired!\n(Because it was too tired! - a pun on \"two tired\")\n\nDid you find it 冷 (lěng - cold)? 😉 Let me know if you want another one!\n"
          },
          "metadata": {}
        },
        {
          "output_type": "stream",
          "name": "stdout",
          "text": [
            "You:in mandarin\n",
            "Bot:\n"
          ]
        },
        {
          "output_type": "display_data",
          "data": {
            "text/plain": [
              "<IPython.core.display.Markdown object>"
            ],
            "text/markdown": "好的，Connie。 这有一个冷笑话：\n\n为什么自行车倒了？\n\n... 因为它太二了！\n(Yīnwèi tā tài èr le!)\n\nThe joke relies on the double meaning of \"太二 (tài èr)\". It can mean \"too silly\" or \"too two\" (referring to the two wheels). So the joke plays on the bicycle being \"too tired\" like the English joke, but with the added layer of meaning \"too silly\" and \"too two\".\n\n怎么样？冷吗？ 要不要再来一个？ (Zěnme yàng? Lěng ma? Yào bù yào zài lái yī ge?)\n"
          },
          "metadata": {}
        },
        {
          "name": "stdout",
          "output_type": "stream",
          "text": [
            "You:Bye!\n"
          ]
        }
      ]
    }
  ]
}