{
  "nbformat": 4,
  "nbformat_minor": 0,
  "metadata": {
    "colab": {
      "provenance": [],
      "authorship_tag": "ABX9TyMp4IFgv6bmD2L+nQ7v+7OQ",
      "include_colab_link": true
    },
    "kernelspec": {
      "name": "python3",
      "display_name": "Python 3"
    },
    "language_info": {
      "name": "python"
    }
  },
  "cells": [
    {
      "cell_type": "markdown",
      "metadata": {
        "id": "view-in-github",
        "colab_type": "text"
      },
      "source": [
        "<a href=\"https://colab.research.google.com/github/B104020057/PIS2022/blob/main/try_API.ipynb\" target=\"_parent\"><img src=\"https://colab.research.google.com/assets/colab-badge.svg\" alt=\"Open In Colab\"/></a>"
      ]
    },
    {
      "cell_type": "markdown",
      "source": [
        "申請金鑰：[Google AI Studio](https://aistudio.google.com/app/apikey)\n",
        "\n",
        "[API Document](https://ai.google.dev/gemini-api/docs?_gl=1*1lzixvc*_ga*MTA2MTMzOTQ4OS4xNzQxMDc1MTEy*_ga_P1DBVKWT6V*MTc0MTA3NTExMi4xLjEuMTc0MTA3NTE4OC42MC4wLjE0MjE0NTkyOTI.)"
      ],
      "metadata": {
        "id": "8NKl8eunK9Os"
      }
    },
    {
      "cell_type": "code",
      "execution_count": 1,
      "metadata": {
        "colab": {
          "base_uri": "https://localhost:8080/",
          "height": 1000
        },
        "collapsed": true,
        "id": "NEBEFy2xKZUp",
        "outputId": "956b2193-bc9e-474f-ff3e-91e794d66af1"
      },
      "outputs": [
        {
          "output_type": "stream",
          "name": "stdout",
          "text": [
            "Okay, let's break down how AI works, covering the core concepts and different approaches.  It's a vast field, so I'll try to keep it accessible while providing a solid overview.\n",
            "\n",
            "**What is AI (Artificial Intelligence)?**\n",
            "\n",
            "At its simplest, AI is about creating computer systems that can perform tasks that typically require human intelligence.  This includes:\n",
            "\n",
            "*   **Learning:**  Acquiring information and rules for using the information.\n",
            "*   **Reasoning:** Using rules to reach conclusions (both exact and approximate).\n",
            "*   **Problem-solving:**  Finding solutions to complex tasks.\n",
            "*   **Perception:** Interpreting sensory input (like images, sounds, or text).\n",
            "*   **Natural Language Processing (NLP):** Understanding and generating human language.\n",
            "*   **Planning:**  Devising sequences of actions to achieve goals.\n",
            "\n",
            "**Key Components and Approaches:**\n",
            "\n",
            "AI isn't a single thing; it's a collection of techniques. Here are some of the most important:\n",
            "\n",
            "1.  **Machine Learning (ML):**\n",
            "\n",
            "    *   **The Core Idea:** Instead of explicitly programming a computer to perform a task, you *train* it by feeding it lots of data. The computer learns patterns and relationships from that data and uses them to make predictions or decisions on new, unseen data.\n",
            "    *   **Types of Machine Learning:**\n",
            "        *   **Supervised Learning:**  You provide the algorithm with labeled data (inputs and the correct outputs). The algorithm learns to map inputs to outputs.\n",
            "            *   **Example:** Training a spam filter. You provide emails labeled as \"spam\" or \"not spam,\" and the algorithm learns to identify the characteristics of spam emails.\n",
            "            *   **Common Algorithms:** Linear Regression, Logistic Regression, Support Vector Machines (SVMs), Decision Trees, Random Forests, Neural Networks (specifically for classification and regression).\n",
            "        *   **Unsupervised Learning:** You provide the algorithm with unlabeled data. The algorithm tries to find patterns, structures, or relationships in the data on its own.\n",
            "            *   **Example:** Clustering customers into different groups based on their purchasing behavior.\n",
            "            *   **Common Algorithms:** K-Means Clustering, Hierarchical Clustering, Principal Component Analysis (PCA) (for dimensionality reduction), Association Rule Mining.\n",
            "        *   **Reinforcement Learning:** The algorithm learns by interacting with an environment. It receives rewards or penalties for its actions and learns to choose actions that maximize its cumulative reward.\n",
            "            *   **Example:** Training a robot to navigate a maze.  The robot gets a reward for moving closer to the goal and a penalty for hitting walls.\n",
            "            *   **Common Algorithms:** Q-Learning, Deep Q-Networks (DQNs), SARSA, Policy Gradient methods (e.g., REINFORCE, A2C, PPO).\n",
            "\n",
            "2.  **Neural Networks and Deep Learning:**\n",
            "\n",
            "    *   **Inspiration:** Inspired by the structure of the human brain.\n",
            "    *   **Structure:** Neural networks consist of interconnected nodes (neurons) organized in layers.  Each connection between neurons has a weight associated with it.\n",
            "    *   **How it Works:**\n",
            "        *   **Input Layer:** Receives the initial data.\n",
            "        *   **Hidden Layers:**  Perform complex computations on the data.  The more hidden layers, the \"deeper\" the network.\n",
            "        *   **Output Layer:** Produces the final result.\n",
            "        *   **Learning:**  The network learns by adjusting the weights of the connections based on the data it's trained on.  This is done through a process called backpropagation.\n",
            "    *   **Deep Learning:**  Neural networks with many layers (hence \"deep\").  Deep learning is particularly effective at learning complex patterns from large amounts of data, such as image recognition, natural language processing, and speech recognition.\n",
            "    *   **Types of Neural Networks:**\n",
            "        *   **Feedforward Neural Networks (FNNs):** The simplest type, data flows in one direction.\n",
            "        *   **Convolutional Neural Networks (CNNs):**  Excellent for image and video processing.  They use convolutional layers to detect patterns in the data.\n",
            "        *   **Recurrent Neural Networks (RNNs):** Designed for sequential data, like text or time series.  They have feedback loops that allow them to maintain a memory of past inputs.\n",
            "        *   **Transformers:**  A more recent type of neural network architecture that has achieved state-of-the-art results in many NLP tasks.  They use attention mechanisms to weigh the importance of different parts of the input sequence.\n",
            "\n",
            "3.  **Symbolic AI (Good Old-Fashioned AI - GOFAI):**\n",
            "\n",
            "    *   **The Core Idea:** Represents knowledge using symbols and rules.  AI systems then use these symbols and rules to reason and solve problems.\n",
            "    *   **Examples:**\n",
            "        *   **Expert Systems:**  Systems that contain the knowledge of a human expert in a specific domain.  They can be used to diagnose diseases, provide financial advice, or troubleshoot technical problems.\n",
            "        *   **Logic Programming:**  Using formal logic to represent knowledge and perform reasoning.\n",
            "        *   **Knowledge Representation:** Designing formal languages for representing knowledge in a way that can be processed by computers.\n",
            "    *   **Advantages:** Explainable, can reason with incomplete information.\n",
            "    *   **Disadvantages:**  Difficult to scale to complex problems, requires a lot of manual effort to create the knowledge base, brittle (doesn't handle unexpected situations well).\n",
            "\n",
            "4.  **Natural Language Processing (NLP):**\n",
            "\n",
            "    *   **The Core Idea:**  Enables computers to understand, interpret, and generate human language.\n",
            "    *   **Tasks:**\n",
            "        *   **Machine Translation:** Translating text from one language to another.\n",
            "        *   **Sentiment Analysis:** Determining the emotional tone of text.\n",
            "        *   **Text Summarization:** Creating a concise summary of a longer text.\n",
            "        *   **Question Answering:**  Answering questions posed in natural language.\n",
            "        *   **Chatbots:**  Creating conversational agents that can interact with humans.\n",
            "    *   **Techniques:**  Statistical methods, machine learning, deep learning (especially transformers like BERT, GPT).\n",
            "\n",
            "5.  **Computer Vision:**\n",
            "\n",
            "    *   **The Core Idea:** Enables computers to \"see\" and interpret images and videos.\n",
            "    *   **Tasks:**\n",
            "        *   **Object Detection:** Identifying objects in an image.\n",
            "        *   **Image Recognition:** Classifying an image.\n",
            "        *   **Image Segmentation:** Dividing an image into regions.\n",
            "        *   **Facial Recognition:** Identifying faces in an image or video.\n",
            "    *   **Techniques:**  Convolutional Neural Networks (CNNs), image processing techniques.\n",
            "\n",
            "6.  **Robotics:**\n",
            "\n",
            "    *   **The Core Idea:**  Designing and building robots that can perform tasks autonomously.\n",
            "    *   **Integration:**  Often combines AI techniques (like computer vision, planning, and reinforcement learning) with mechanical engineering, electrical engineering, and computer science.\n",
            "\n",
            "**The AI Development Process (Simplified):**\n",
            "\n",
            "1.  **Define the Problem:**  Clearly identify the task you want the AI system to perform.  What inputs will it receive, and what outputs should it produce?\n",
            "2.  **Gather Data:** Collect a large and representative dataset relevant to the problem.  The quality and quantity of the data are crucial for training effective AI models.\n",
            "3.  **Choose an Algorithm/Approach:**  Select the appropriate AI technique (e.g., supervised learning, deep learning, symbolic AI) based on the problem, the data, and the desired outcome.\n",
            "4.  **Train the Model:**  Feed the data to the algorithm to train it.  This involves adjusting the parameters of the model to minimize errors.\n",
            "5.  **Evaluate the Model:**  Test the model on a separate dataset (the \"test set\") to assess its performance.  Use metrics appropriate for the task (e.g., accuracy, precision, recall, F1-score).\n",
            "6.  **Tune the Model (Hyperparameter Optimization):**  Adjust the hyperparameters of the model (parameters that are not learned from the data) to improve its performance.\n",
            "7.  **Deploy the Model:**  Integrate the trained model into a real-world application.\n",
            "8.  **Monitor and Retrain:** Continuously monitor the model's performance and retrain it with new data to ensure it remains accurate and effective over time.\n",
            "\n",
            "**Important Considerations:**\n",
            "\n",
            "*   **Data Bias:** AI models can inherit biases present in the training data, leading to unfair or discriminatory outcomes. It's crucial to address data bias during data collection and model training.\n",
            "*   **Explainability:**  Some AI models (especially deep learning models) are difficult to understand and interpret.  This can be a problem in applications where transparency is important.  \"Explainable AI\" (XAI) is a growing field that focuses on developing techniques to make AI models more understandable.\n",
            "*   **Ethics:**  AI raises important ethical considerations, such as job displacement, privacy, and the potential for misuse.  It's important to develop and use AI responsibly.\n",
            "*   **Computational Resources:** Training complex AI models (especially deep learning models) can require significant computational resources (e.g., GPUs).\n",
            "\n",
            "**In summary:**\n",
            "\n",
            "AI is a broad field that encompasses a variety of techniques for creating intelligent systems. Machine learning, especially deep learning, has been particularly successful in recent years, but other approaches like symbolic AI still have their place.  The key is to choose the right technique for the problem at hand and to develop and use AI responsibly.\n",
            "\n"
          ]
        }
      ],
      "source": [
        "import google.generativeai as genai\n",
        "\n",
        "genai.configure(api_key=\"\")\n",
        "model = genai.GenerativeModel(\"gemini-2.0-flash\") #產生模型（模型與版本）\n",
        "response = model.generate_content(\"Explain how AI works\") #產生内容（提示詞）\n",
        "print(response.text) #output"
      ]
    },
    {
      "cell_type": "code",
      "source": [
        "from google.colab import userdata\n",
        "import google.generativeai as genai\n",
        "genai.configure(api_key=userdata.get('GOOGLE_API_KEY'))"
      ],
      "metadata": {
        "id": "z22scjo6P8KM"
      },
      "execution_count": 2,
      "outputs": []
    },
    {
      "cell_type": "code",
      "source": [
        "model = genai.GenerativeModel(\"gemini-2.0-flash\") #產生模型（模型與版本）\n",
        "response = model.generate_content(\"Explain how AI works\") #產生内容（提示詞）\n",
        "print(response.text) #output"
      ],
      "metadata": {
        "id": "dOqefMnJQUVD"
      },
      "execution_count": null,
      "outputs": []
    },
    {
      "cell_type": "code",
      "source": [
        "generation_config = {\n",
        "    \"temperature\":1,\n",
        "    \"max_output_tokens\":1280\n",
        "}\n",
        "model = genai.GenerativeModel(\n",
        "    model_name = \"gemini-2.0-flash\" #產生模型（模型與版本）\n",
        "    generation_config = generation_config\n",
        ")"
      ],
      "metadata": {
        "id": "M4TsO8CTQ93F"
      },
      "execution_count": null,
      "outputs": []
    }
  ]
}