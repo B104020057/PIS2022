{
  "nbformat": 4,
  "nbformat_minor": 0,
  "metadata": {
    "colab": {
      "provenance": [],
      "authorship_tag": "ABX9TyPjb9zDqU0Km6N1uSNev9Fj",
      "include_colab_link": true
    },
    "kernelspec": {
      "name": "python3",
      "display_name": "Python 3"
    },
    "language_info": {
      "name": "python"
    }
  },
  "cells": [
    {
      "cell_type": "markdown",
      "metadata": {
        "id": "view-in-github",
        "colab_type": "text"
      },
      "source": [
        "<a href=\"https://colab.research.google.com/github/B104020057/PIS2022/blob/main/EX02_07KKDay.ipynb\" target=\"_parent\"><img src=\"https://colab.research.google.com/assets/colab-badge.svg\" alt=\"Open In Colab\"/></a>"
      ]
    },
    {
      "cell_type": "code",
      "execution_count": 19,
      "metadata": {
        "colab": {
          "base_uri": "https://localhost:8080/"
        },
        "id": "cR20zA_cecCP",
        "outputId": "468bedb6-b200-4558-fcad-27c08e276000"
      },
      "outputs": [
        {
          "output_type": "execute_result",
          "data": {
            "text/plain": [
              "<title>最熱門 東京 住宿 - 2025 更新 - KKday</title>"
            ]
          },
          "metadata": {},
          "execution_count": 19
        }
      ],
      "source": [
        "import requests\n",
        "from bs4 import BeautifulSoup\n",
        "\n",
        "url = 'https://www.kkday.com/zh-tw/category/jp-tokyo/accommodation'\n",
        "\n",
        "#突破爬蟲限制，在F2網路中隨便點一個，找到user-agent複製貼上\n",
        "headers = {'user-agent':'Mozilla/5.0 (X11; Linux aarch64) AppleWebKit/537.36 (KHTML, like Gecko) Chrome/135.0.0.0 Safari/537.36'}\n",
        "response = requests.get(url,headers=headers)\n",
        "\n",
        "#解析\n",
        "soup = BeautifulSoup(response.text, 'lxml')\n",
        "soup.title"
      ]
    },
    {
      "cell_type": "code",
      "source": [
        "import requests\n",
        "url = 'https://www.kkday.com/zh-tw/category/ajax_get_top_products?productCategory=CATEGORY_078&destination=D-JP-3261'\n",
        "headers = {'user-agent':'Mozilla/5.0 (X11; Linux aarch64) AppleWebKit/537.36 (KHTML, like Gecko) Chrome/135.0.0.0 Safari/537.36'}\n",
        "response = requests.get(url,headers=headers)\n",
        "hotels=response.json()"
      ],
      "metadata": {
        "id": "NOW_PB8jf3Mh"
      },
      "execution_count": 22,
      "outputs": []
    },
    {
      "cell_type": "code",
      "source": [
        "hotels['data'][0]"
      ],
      "metadata": {
        "colab": {
          "base_uri": "https://localhost:8080/"
        },
        "id": "5qraTAfmZSvs",
        "outputId": "1f3d4513-3030-4c37-cc1e-406615db9482"
      },
      "execution_count": 23,
      "outputs": [
        {
          "output_type": "execute_result",
          "data": {
            "text/plain": [
              "{'id': 192442,\n",
              " 'prod_oid': 192442,\n",
              " 'name': '東京押上京成里士滿飯店',\n",
              " 'introduction': '東京押上京成里士滿飯店,距離押上站步行可達,提供舒適住宿。即刻預訂,享受東京的都市生活!',\n",
              " 'rating_count': 1,\n",
              " 'rating_star': 5,\n",
              " 'order_count': 11,\n",
              " 'show_order_count': '',\n",
              " 'confirm_hour': 0,\n",
              " 'instant_booking': True,\n",
              " 'instant_use': True,\n",
              " 'free_refund_policy': True,\n",
              " 'free_refund_before_day': 8,\n",
              " 'earliest_sale_date': '20250408',\n",
              " 'sale_status': '1',\n",
              " 'purchase_type': None,\n",
              " 'purchase_date': None,\n",
              " 'is_tourism_product': True,\n",
              " 'readable_url': None,\n",
              " 'main_cat_key': 'M01',\n",
              " 'product_category': {'main': 'CATEGORY_078', 'sub': []},\n",
              " 'promo_tag_keys': [],\n",
              " 'cat_key': ['TAG_6_1'],\n",
              " 'theme_code': [],\n",
              " 'product_labels': [],\n",
              " 'img_url': 'https://image.kkday.com/image/get/w_600%2Cc_fit/s1.kkday.com/product_192442/20241012060315_EdJAk/png',\n",
              " 'img_url_list': ['https://image.kkday.com/image/get/w_600%2Cc_fit/s1.kkday.com/product_192442/20241012060315_EdJAk/png',\n",
              "  'https://image.kkday.com/image/get/w_600%2Cc_fit/s1.kkday.com/product_192442/20241012060315_A7TZQ/png',\n",
              "  'https://image.kkday.com/image/get/w_600%2Cc_fit/s1.kkday.com/product_192442/20241012060315_4Qzq3/png',\n",
              "  'https://image.kkday.com/image/get/w_600%2Cc_fit/s1.kkday.com/product_192442/20241012060315_toXWS/png',\n",
              "  'https://image.kkday.com/image/get/w_600%2Cc_fit/s1.kkday.com/product_192442/20241012060315_gKzXE/png'],\n",
              " 'duration': 0,\n",
              " 'days': 0,\n",
              " 'hours': 0,\n",
              " 'minutes': 0,\n",
              " 'currency': 'TWD',\n",
              " 'display_sale_price': '2,750',\n",
              " 'sale_price': 2750,\n",
              " 'display_price': '2,750',\n",
              " 'price': 2750,\n",
              " 'discount': 0,\n",
              " 'is_display_price': False,\n",
              " 'app_cheaper_than_web': False,\n",
              " 'max_price': 743233,\n",
              " 'countries': [{'id': 'A01-003',\n",
              "   'name': '日本',\n",
              "   'cities': [{'id': 'A01-003-99999', 'name': '所有城市'},\n",
              "    {'id': 'A01-003-00001', 'name': '東京'}]}],\n",
              " 'is_marketplace': False,\n",
              " 'supplier_oid_list': ['21011'],\n",
              " 'supplier_name': None,\n",
              " 'supplier_logo': None,\n",
              " 'supplier_award': 0,\n",
              " 'supplier_badge': 0,\n",
              " 'is_zero_price': False,\n",
              " 'destinations': [{'code': 'D-JP-3261', 'name': '東京'},\n",
              "  {'code': 'D-JP-3218', 'name': '關東'},\n",
              "  {'code': 'D-JP-112', 'name': '日本'}]}"
            ]
          },
          "metadata": {},
          "execution_count": 23
        }
      ]
    },
    {
      "cell_type": "code",
      "source": [
        "from IPython.display import Image, display\n",
        "\n",
        "for hotel in hotels['data']:\n",
        "    print(hotel['name'],hotel['rating_star'],hotel['sale_price'])\n",
        "    print(hotel['introduction'])\n",
        "    display(Image(url=hotel['img_url'],width = 300))\n",
        "    print('-'*3)\n",
        "    print()"
      ],
      "metadata": {
        "colab": {
          "base_uri": "https://localhost:8080/",
          "height": 1000
        },
        "id": "4K06a1b3WcHI",
        "outputId": "e24a0dc2-15b0-422f-9375-bdb2746c3b9e"
      },
      "execution_count": 24,
      "outputs": [
        {
          "output_type": "stream",
          "name": "stdout",
          "text": [
            "東京押上京成里士滿飯店 5 2750\n",
            "東京押上京成里士滿飯店,距離押上站步行可達,提供舒適住宿。即刻預訂,享受東京的都市生活!\n"
          ]
        },
        {
          "output_type": "display_data",
          "data": {
            "text/html": [
              "<img src=\"https://image.kkday.com/image/get/w_600%2Cc_fit/s1.kkday.com/product_192442/20241012060315_EdJAk/png\" width=\"300\"/>"
            ],
            "text/plain": [
              "<IPython.core.display.Image object>"
            ]
          },
          "metadata": {}
        },
        {
          "output_type": "stream",
          "name": "stdout",
          "text": [
            "---\n",
            "\n",
            "相鐵FRESA INN 東京田町 0 1784\n",
            "位於都心重要地區連結各地方皆便利、商務觀光皆適合! 從山手線 東京站 搭乘普通電車到山手線 田町站 (8分鐘), 從山手線 田町站 步行 (4分鐘)\n"
          ]
        },
        {
          "output_type": "display_data",
          "data": {
            "text/html": [
              "<img src=\"https://image.kkday.com/image/get/w_600%2Cc_fit/s1.kkday.com/product_194855/20241009053740_8rEGz/png\" width=\"300\"/>"
            ],
            "text/plain": [
              "<IPython.core.display.Image object>"
            ]
          },
          "metadata": {}
        },
        {
          "output_type": "stream",
          "name": "stdout",
          "text": [
            "---\n",
            "\n",
            "APA 飯店 - 京成上野站前 5 1957\n",
            "APA 飯店 - 京成上野站前,位於上野站前,方便探索東京景點。立即預訂,享受上野的都市便捷!\n"
          ]
        },
        {
          "output_type": "display_data",
          "data": {
            "text/html": [
              "<img src=\"https://image.kkday.com/image/get/w_600%2Cc_fit/s1.kkday.com/product_187328/20241002110220_WNY3P/png\" width=\"300\"/>"
            ],
            "text/plain": [
              "<IPython.core.display.Image object>"
            ]
          },
          "metadata": {}
        },
        {
          "output_type": "stream",
          "name": "stdout",
          "text": [
            "---\n",
            "\n",
            "秋葉原灣膠囊旅館 5 1182\n",
            "秋葉原灣膠囊旅館,專為女性設計的膠囊住宿,安全舒適。即刻預訂,享受便捷的秋葉原之行!\n"
          ]
        },
        {
          "output_type": "display_data",
          "data": {
            "text/html": [
              "<img src=\"https://image.kkday.com/image/get/w_600%2Cc_fit/s1.kkday.com/product_187184/20241002060713_qgqsZ/png\" width=\"300\"/>"
            ],
            "text/plain": [
              "<IPython.core.display.Image object>"
            ]
          },
          "metadata": {}
        },
        {
          "output_type": "stream",
          "name": "stdout",
          "text": [
            "---\n",
            "\n",
            "日暮里阿爾蒙特飯店 0 3107\n",
            "享受日暮里阿爾蒙特飯店的舒適住宿,便捷至東京主要景點,立即預訂,開啟您的東京之旅!\n"
          ]
        },
        {
          "output_type": "display_data",
          "data": {
            "text/html": [
              "<img src=\"https://image.kkday.com/image/get/w_600%2Cc_fit/s1.kkday.com/product_193898/20241029064831_EWA64/png\" width=\"300\"/>"
            ],
            "text/plain": [
              "<IPython.core.display.Image object>"
            ]
          },
          "metadata": {}
        },
        {
          "output_type": "stream",
          "name": "stdout",
          "text": [
            "---\n",
            "\n",
            "上野御徒町超級飯店 5 2188\n",
            "上野御徒町超級飯店,靠近上野公園和博物館,便捷至東京主要景點,立即預訂,享受便利住宿!\n"
          ]
        },
        {
          "output_type": "display_data",
          "data": {
            "text/html": [
              "<img src=\"https://image.kkday.com/image/get/w_600%2Cc_fit/s1.kkday.com/product_244886/20241006071617_0EYB1/png\" width=\"300\"/>"
            ],
            "text/plain": [
              "<IPython.core.display.Image object>"
            ]
          },
          "metadata": {}
        },
        {
          "output_type": "stream",
          "name": "stdout",
          "text": [
            "---\n",
            "\n",
            "OMO5 東京大塚 by 星野集團 0 5088\n",
            "Surrender toOtsuka's old-fashioned charm 從山手線 東京站 搭乘普通電車到山手線 大塚站 (20分鐘), 從山手線 大塚站 步行 (1分鐘)\n"
          ]
        },
        {
          "output_type": "display_data",
          "data": {
            "text/html": [
              "<img src=\"https://image.kkday.com/image/get/w_600%2Cc_fit/s1.kkday.com/product_250655/20240930163859_2RFQU/png\" width=\"300\"/>"
            ],
            "text/plain": [
              "<IPython.core.display.Image object>"
            ]
          },
          "metadata": {}
        },
        {
          "output_type": "stream",
          "name": "stdout",
          "text": [
            "---\n",
            "\n",
            "淺草豪景飯店 0 4238\n",
            "在淺草豪景飯店享受優質服務與迷人景觀,輕鬆到達淺草寺,馬上預訂,體驗東京傳統!\n"
          ]
        },
        {
          "output_type": "display_data",
          "data": {
            "text/html": [
              "<img src=\"https://image.kkday.com/image/get/w_600%2Cc_fit/s1.kkday.com/product_188050/20241003085115_7tDa5/png\" width=\"300\"/>"
            ],
            "text/plain": [
              "<IPython.core.display.Image object>"
            ]
          },
          "metadata": {}
        },
        {
          "output_type": "stream",
          "name": "stdout",
          "text": [
            "---\n",
            "\n",
            "OMO3 淺草 by 星野集團 0 5830\n",
            "Old Tokyo of Nostalgiato the Unfamiliar 從機場線 羽田機場第1、第2航廈站 搭乘普通電車 (40分鐘)\n"
          ]
        },
        {
          "output_type": "display_data",
          "data": {
            "text/html": [
              "<img src=\"https://image.kkday.com/image/get/w_600%2Cc_fit/s1.kkday.com/product_250653/20240930163835_HkOxQ/png\" width=\"300\"/>"
            ],
            "text/plain": [
              "<IPython.core.display.Image object>"
            ]
          },
          "metadata": {}
        },
        {
          "output_type": "stream",
          "name": "stdout",
          "text": [
            "---\n",
            "\n",
            "OMO5 東京五反田 by 星野集團 0 6163\n",
            "Drop-dead night views in food heaven 從東海道新幹線 東京站 搭乘普通電車到山手線 五反田站 (18分鐘), 從山手線 五反田站 步行 (8分鐘)\n"
          ]
        },
        {
          "output_type": "display_data",
          "data": {
            "text/html": [
              "<img src=\"https://image.kkday.com/image/get/w_600%2Cc_fit/s1.kkday.com/product_250652/20240930163806_T8DUz/png\" width=\"300\"/>"
            ],
            "text/plain": [
              "<IPython.core.display.Image object>"
            ]
          },
          "metadata": {}
        },
        {
          "output_type": "stream",
          "name": "stdout",
          "text": [
            "---\n",
            "\n"
          ]
        }
      ]
    }
  ]
}