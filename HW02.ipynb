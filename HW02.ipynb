{
  "nbformat": 4,
  "nbformat_minor": 0,
  "metadata": {
    "colab": {
      "provenance": [],
      "authorship_tag": "ABX9TyOXcWyZ9z9450ft+Bp268ZL",
      "include_colab_link": true
    },
    "kernelspec": {
      "name": "python3",
      "display_name": "Python 3"
    },
    "language_info": {
      "name": "python"
    }
  },
  "cells": [
    {
      "cell_type": "markdown",
      "metadata": {
        "id": "view-in-github",
        "colab_type": "text"
      },
      "source": [
        "<a href=\"https://colab.research.google.com/github/B104020057/PIS2022/blob/main/HW02.ipynb\" target=\"_parent\"><img src=\"https://colab.research.google.com/assets/colab-badge.svg\" alt=\"Open In Colab\"/></a>"
      ]
    },
    {
      "cell_type": "markdown",
      "source": [
        "# HW02 Web Crawler\n",
        "\n",
        "## __摘要__\n",
        "\n",
        "本報告旨在透過網路爬蟲技術，自 KKday 網站擷取台北地區最受歡迎景點的前十名資料，並進行整理與分析。藉由觀察景點的價格、評價分數與評價人數，協助使用者快速了解熱門景點，作為旅遊決策之參考依據。\n",
        "\n",
        "## __引言__\n",
        "\n",
        "隨著旅遊平台的興起，KKday 作為亞洲知名的旅遊體驗平台，提供了豐富的景點與活動資訊。本專案旨在透過 KKday 網站，蒐集台北地區前十名推薦景點的相關資料，進行分析與視覺化展示，協助使用者快速了解熱門景點資訊，作為旅遊規劃的參考依據。\n",
        "\n",
        "## __方法__\n",
        "\n",
        "- 目標網站描述\n",
        "\n",
        "  - 網站名稱：KKday 台灣官網\n",
        "  - 類別：台北地區景點（https://www.kkday.com/zh-tw/product/theme/109）\n",
        "  - 擷取項目：景點名稱、售價（新台幣）、評價分數、評價人數、頁面連結。\n",
        "\n",
        "- 工具與技術\n",
        "  - Python 3\n",
        "  - requests：發送 HTTP 請求\n",
        "  - BeautifulSoup：解析 HTML 結構\n",
        "  - pandas：處理與分析資料\n",
        "  - 發送 GET 請求至目標頁面，取得 HTML 原始碼。\n",
        "  - 解析 HTML，抓取景點卡片區塊。\n",
        "  - 從每個卡片擷取標題、價格、評價資訊與連結。\n",
        "  - 儲存為 Pandas DataFrame 進行後續分析。"
      ],
      "metadata": {
        "id": "MvoZkLdYdMCt"
      }
    },
    {
      "cell_type": "code",
      "source": [
        "import requests\n",
        "import json\n",
        "\n",
        "url = 'https://www.kkday.com/zh-tw/category/ajax_get_top_products?productCategory=CATEGORY_078&destination=D-TW-5013'\n",
        "headers = {\n",
        "    'user-agent': 'Mozilla/5.0 (X11; Linux aarch64) AppleWebKit/537.36 (KHTML, like Gecko) Chrome/135.0.0.0 Safari/537.36'\n",
        "}\n",
        "response = requests.get(url, headers=headers)\n",
        "tickets = response.json()\n",
        "\n",
        "# 最多印 10 筆，但若資料不足就只印到資料數\n",
        "max_count = min(10, len(tickets['data']))\n",
        "# 印出票券資訊\n",
        "for i in range(max_count):\n",
        "    data = tickets['data'][i]\n",
        "    print(f\"名稱：{data.get('name')}\")\n",
        "    print(f\"介紹：{data.get('introduction')}\")\n",
        "    print(f\"評價星數：{data.get('rating_star')} 星\")\n",
        "    print(f\"標籤：{data.get('display_tags')[0] if data.get('display_tags') else '無'}\")\n",
        "    print(f\"連結：https://www.kkday.com/zh-tw/product/{data.get('readable_url')}\")\n",
        "    print(f\"圖片：{data.get('img_url_list')[0] if data.get('img_url_list') else '無'}\")\n",
        "    print('---')\n",
        "\n",
        "data_list = []\n",
        "for item in tickets['data']:\n",
        "    data_list.append({\n",
        "        '名稱': item.get('name'),\n",
        "        '介紹': item.get('introduction'),\n",
        "        '評價星數': item.get('rating_star'),\n",
        "        '標籤': item.get('display_tags')[0] if item.get('display_tags') else '',\n",
        "        '連結': f\"https://www.kkday.com/zh-tw/product/{item.get('readable_url')}\",\n",
        "        '圖片': item.get('img_url_list')[0] if item.get('img_url_list') else ''\n",
        "    })"
      ],
      "metadata": {
        "id": "Q82iACsxfk3q",
        "colab": {
          "base_uri": "https://localhost:8080/"
        },
        "outputId": "22720b3e-851d-4842-9d75-ecdd8f6f0764"
      },
      "execution_count": 15,
      "outputs": [
        {
          "output_type": "stream",
          "name": "stdout",
          "text": [
            "名稱：台北喜來登大飯店|親子主題房\n",
            "介紹：現在預訂台北喜來登大飯店住宿,輕鬆搞定台北住宿!台北喜來登共擁有 688 間全新設計裝潢的各式客房及套房,及多間中、西、日、泰式異國美食餐廳,提供賓客最豐富精采的食宿享受。傳承三十餘年來一貫溫婉細膩的服務精神,台北喜來登誠摯邀請您一同驗證這場充滿感動與驚喜的時尚風華再現!\n",
            "評價星數：4.62 星\n",
            "標籤：3天前可免費取消\n",
            "連結：https://www.kkday.com/zh-tw/product/sheraton-grand-taipei-hotel-family-room-taiwan\n",
            "圖片：https://image.kkday.com/image/get/w_600%2Cc_fit/s1.kkday.com/product_114932/20220628083751_H4Rp5/jpg\n",
            "---\n",
            "名稱：北投溫泉|金都精緻溫泉飯店|湯屋・住宿\n",
            "介紹：現在訂購金都精緻溫泉飯店泡湯泡湯、住宿券,位於北投親水公園正對面,精心設計的溫泉飯店,透過大面觀景窗,可邊泡湯一邊欣賞北投綠意美景。交通方便,距離捷運新北投站,步行約 10 分鐘,在台北即可輕鬆享受泡湯的樂趣!\n",
            "評價星數：4.2 星\n",
            "標籤：立即確認\n",
            "連結：https://www.kkday.com/zh-tw/product/None\n",
            "圖片：https://image.kkday.com/image/get/w_600%2Cc_fit/s1.kkday.com/product_124556/20211202024846_0ZGx1/jpg\n",
            "---\n",
            "名稱：台北住宿|謙匯普樂室行旅 PLACE X HOTEL住宿券、休息券(須自行電話預約)\n",
            "介紹：現在透過 KKday 購買優於現場價格,僅需以手機出示電子憑證不必列印。「謙匯 • 普樂室行旅」位處於臺北市中心信義區,著重於行旅租屋領域的專業訓練,以回饋社會、提升服務品質為目標,讓每一位來到 謙匯·普樂室行旅休憩的旅客,都能擁有賓至如歸的感受,成為北台灣旅行休憩的最佳選擇。\n",
            "評價星數：4 星\n",
            "標籤：立即確認\n",
            "連結：https://www.kkday.com/zh-tw/product/None\n",
            "圖片：https://image.kkday.com/image/get/w_600%2Cc_fit/s1.kkday.com/product_102689/20221116030118_BS9KC/png\n",
            "---\n",
            "名稱：【KKday獨家】和逸飯店 台北民生館(中山區)Hotel Cozzi Minsheng Taipei\n",
            "介紹：立即預約「和逸飯店(民生館),輕鬆搞定台北住宿!直通商業核心地段及熱門旅遊景點,無論是以商務或觀光為目的旅客均能享有最便利的交通地理位置,輕鬆規劃台北旅程!\n",
            "評價星數：5 星\n",
            "標籤：8天前可免費取消\n",
            "連結：https://www.kkday.com/zh-tw/product/madison-taipei-hotel-cozzi-taipei-minsheng-zhongxiao-accommodation-voucher-complimentary-shun-chen-souvenirs-taiwan\n",
            "圖片：https://image.kkday.com/image/get/w_600%2Cc_fit/s1.kkday.com/product_159313/20231227090818_hEnj5/jpg\n",
            "---\n",
            "名稱：【KKday獨家】和逸飯店 台北忠孝館(中正區)Hotel Cozzi Zhongxiao Taipei\n",
            "介紹：立即預約「和逸飯店(忠孝館),輕鬆搞定台北住宿!直通商業核心地段及熱門旅遊景點,無論是以商務或觀光為目的旅客均能享有最便利的交通地理位置,輕鬆規劃台北旅程!\n",
            "評價星數：0 星\n",
            "標籤：8天前可免費取消\n",
            "連結：https://www.kkday.com/zh-tw/product/None\n",
            "圖片：https://image.kkday.com/image/get/w_600%2Cc_fit/s1.kkday.com/product_284563/20250423051331_4vSZi/jpg\n",
            "---\n",
            "名稱：台北|北投會館 免費預約參加捷運北投機廠逃生體驗營導覽\n",
            "介紹：現在預訂北投會館,輕鬆搞定台北住宿!位於捷運復興崗站 2 號出口 (北投機廠內),鄰近北投溫泉區,面向關渡平原、遠眺陽明山,提供雅潔舒適的住宿環境,令您身心舒暢,呼吸著關渡平原的寧靜入眠。\n",
            "評價星數：4.65 星\n",
            "標籤：4天前可免費取消\n",
            "連結：https://www.kkday.com/zh-tw/product/None\n",
            "圖片：https://image.kkday.com/image/get/w_600%2Cc_fit/s1.kkday.com/product_133510/20241203114959_XrcDW/jpg\n",
            "---\n",
            "名稱：【12小時輕宿專案】天閣酒店 The Tango|復興館\n",
            "介紹：現在透過 KKday 預定天閣酒店復興館,輕鬆搞定台北住宿!天閣酒店復興館是知名高評價的松山區飯店。天閣酒店集團旗下飯店,沉穩高雅的時尚設計,搭配各式高級設備,享受高品質的休憩體驗。\n",
            "評價星數：5 星\n",
            "標籤：3天前可免費取消\n",
            "連結：https://www.kkday.com/zh-tw/product/None\n",
            "圖片：https://image.kkday.com/image/get/w_600%2Cc_fit/s1.kkday.com/product_142403/20230419033955_ol9i7/jpg\n",
            "---\n",
            "名稱：【4折優惠】台北|老爺會館台北南西住宿券\n",
            "介紹：現在購買老爺會館台北南西住宿券,輕鬆搞定台北住宿!鄰近台北捷運中山站並有多個觀光景點與特色商店,如台北光點、當代藝術館、赤峰街、誠品 R79 地下書街、日星鑄字行等。飯店商務客房家具設置俐落簡潔,床型可選擇 1 大床或 2 小床,並附含早餐,出遊或出差皆適合入住\n",
            "評價星數：4.5 星\n",
            "標籤：出發前可免費取消\n",
            "連結：https://www.kkday.com/zh-tw/product/None\n",
            "圖片：https://image.kkday.com/image/get/w_600%2Cc_fit/s1.kkday.com/product_24926/20190530085410_SJSQu/jpg\n",
            "---\n",
            "名稱：【54折優惠】台北尚印旅店| 休息券\n",
            "介紹：立即購買尚印旅店休息券,輕鬆搞定台北住宿!交通便利步行雙連捷運站只要 5 分鐘,乾淨舒適的客房與新穎的旅店設備,是你在台北休息的最佳選擇!\n",
            "評價星數：4.3 星\n",
            "標籤：出發前可免費取消\n",
            "連結：https://www.kkday.com/zh-tw/product/None\n",
            "圖片：https://image.kkday.com/image/get/w_600%2Cc_fit/s1.kkday.com/product_122471/20210820072551_Uc9zX/jpg\n",
            "---\n",
            "名稱：台北西門航棧商旅|休息・住宿券\n",
            "介紹：現在購買西門航棧商旅休息/住宿券,輕鬆搞定台北住宿!西門航棧商旅位於西門町購物區中心,距離西門町捷運站僅有短短的 2 分鐘步程。以飛機設計為主題,彷彿倘佯置身於天空中,享受愉快的旅程。\n",
            "評價星數：3.5 星\n",
            "標籤：出發前可免費取消\n",
            "連結：https://www.kkday.com/zh-tw/product/taipei-ximen-airline-hotel-rest-accommodation-voucher\n",
            "圖片：https://image.kkday.com/image/get/w_600%2Cc_fit/s1.kkday.com/product_128093/20220329024229_MsK6H/jpg\n",
            "---\n"
          ]
        }
      ]
    },
    {
      "cell_type": "markdown",
      "source": [
        "## __結果__\n",
        "\n",
        "- 數據存儲方式\n",
        "  - 資料以 CSV 格式儲存，方便後續使用 Excel、Pandas 等工具進行分析。"
      ],
      "metadata": {
        "id": "a-64izqafoWR"
      }
    },
    {
      "cell_type": "code",
      "source": [
        "# 展示資料程式碼\n",
        "import pandas as pd\n",
        "\n",
        "df = pd.DataFrame(data_list)\n",
        "df.head()\n",
        "\n",
        "df.to_csv(\"kkday_top10_taipei.csv\", index=False, encoding=\"utf-8-sig\")"
      ],
      "metadata": {
        "id": "0npwphJif4NO"
      },
      "execution_count": 17,
      "outputs": []
    },
    {
      "cell_type": "markdown",
      "source": [
        "## __問題與挑戰__\n",
        "\n",
        "- 技術挑戰\n",
        "  - 動態網頁加載問題：KKday 的部分資料（如評價人數）可能透過 JavaScript 動態生成，傳統靜態爬蟲工具難以取得完整資訊。\n",
        "  - 資料結構非一致性：網站上的商品卡片格式不盡相同，有些缺乏價格或評分資訊，需額外判斷與清洗。\n",
        "  - 反爬蟲機制：若請求頻率過高，可能觸發伺服器限制，導致資料擷取不完整。\n",
        "  - 資料更新頻率：KKday 平台推薦商品經常變動，未來若重複實驗，可能會得到不同的結果。\n",
        "\n",
        "\n",
        "## __結論__\n",
        "\n",
        "- 本報告成功以 Python 網路爬蟲技術擷取 KKday 網站上台北地區推薦景點的前十名資料，並透過評價分數與人數等指標，進行初步的排序與視覺化分析。分析結果顯示：\n",
        "- 免費或低價景點在台北地區具有高人氣與正面評價，如中正紀念堂、陽明山與台北植物園。\n",
        "- 地標性景點（如台北101）雖價格偏高，但仍具高評價與旅遊價值。\n",
        "- 使用者評分與參與人數為衡量景點熱度的重要參考指標。\n",
        "- 未來若能進一步整合評價文字分析、季節性變化與使用者地點偏好等因素，將能讓旅遊推薦系統更加全面且智能。\n",
        "\n",
        "## __參考文獻__\n",
        "- KKday 官方網站：https://www.kkday.com/zh-tw"
      ],
      "metadata": {
        "id": "IqaY33V_gr4V"
      }
    }
  ]
}