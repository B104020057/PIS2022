{
  "nbformat": 4,
  "nbformat_minor": 0,
  "metadata": {
    "colab": {
      "provenance": [],
      "authorship_tag": "ABX9TyOFC3li3/tAFyDmR+Ytq2BF",
      "include_colab_link": true
    },
    "kernelspec": {
      "name": "python3",
      "display_name": "Python 3"
    },
    "language_info": {
      "name": "python"
    }
  },
  "cells": [
    {
      "cell_type": "markdown",
      "metadata": {
        "id": "view-in-github",
        "colab_type": "text"
      },
      "source": [
        "<a href=\"https://colab.research.google.com/github/B104020057/PIS2022/blob/main/EX02_05_PTTGossiping.ipynb\" target=\"_parent\"><img src=\"https://colab.research.google.com/assets/colab-badge.svg\" alt=\"Open In Colab\"/></a>"
      ]
    },
    {
      "cell_type": "code",
      "execution_count": 8,
      "metadata": {
        "colab": {
          "base_uri": "https://localhost:8080/"
        },
        "id": "_PF-9h0B-59r",
        "outputId": "2f80d3e4-5a3a-45f5-9872-5cefb4e80ebb"
      },
      "outputs": [
        {
          "output_type": "execute_result",
          "data": {
            "text/plain": [
              "200"
            ]
          },
          "metadata": {},
          "execution_count": 8
        }
      ],
      "source": [
        "import requests\n",
        "from bs4 import BeautifulSoup\n",
        "\n",
        "url = 'https://www.ptt.cc/bbs/Movie/index.html'\n",
        "response = requests.get(url)\n",
        "response.status_code"
      ]
    },
    {
      "cell_type": "code",
      "source": [
        "#解析\n",
        "soup = BeautifulSoup(response.text, 'lxml')\n",
        "soup.title"
      ],
      "metadata": {
        "colab": {
          "base_uri": "https://localhost:8080/"
        },
        "id": "R_iV2-C6_VHD",
        "outputId": "0292d8d3-153b-4569-d13d-d83997c3c04a"
      },
      "execution_count": 9,
      "outputs": [
        {
          "output_type": "execute_result",
          "data": {
            "text/plain": [
              "<title>看板 movie 文章列表 - 批踢踢實業坊</title>"
            ]
          },
          "metadata": {},
          "execution_count": 9
        }
      ]
    },
    {
      "cell_type": "code",
      "source": [
        "len(soup.find_all('div', class_='r-ent'))"
      ],
      "metadata": {
        "colab": {
          "base_uri": "https://localhost:8080/"
        },
        "id": "aNNQsfr5AKoL",
        "outputId": "c611a5d5-b0ea-4d5b-e79a-aa2d8cc6b5e7"
      },
      "execution_count": 20,
      "outputs": [
        {
          "output_type": "execute_result",
          "data": {
            "text/plain": [
              "4"
            ]
          },
          "metadata": {},
          "execution_count": 20
        }
      ]
    },
    {
      "cell_type": "code",
      "source": [
        "for atcl in soup.find_all('div', class_='r-ent'):\n",
        "    ttle = atcl.find('div', class_='title').a.text\n",
        "    #取得網址、日期\n",
        "    hlink = atcl.find('div', class_='title').a.get('href')\n",
        "    date = atcl.find('div', class_='date')\n",
        "    print(date,hlink,ttle)"
      ],
      "metadata": {
        "colab": {
          "base_uri": "https://localhost:8080/"
        },
        "id": "gxl9nrXRBZzv",
        "outputId": "0359127a-af93-466c-e582-95c46e107e61"
      },
      "execution_count": 19,
      "outputs": [
        {
          "output_type": "stream",
          "name": "stdout",
          "text": [
            "<div class=\"date\"> 3/25</div> /bbs/movie/M.1742882992.A.C16.html [請益] 月老 原著比電影好看很多嗎?\n",
            "<div class=\"date\"> 3/25</div> /bbs/movie/M.1742883654.A.D09.html [新聞] 星際寶貝選角太白爭議\n",
            "<div class=\"date\"> 9/04</div> /bbs/movie/M.1630756788.A.1FE.html [公告] 電影板板規 2022/12/5\n",
            "<div class=\"date\"> 9/15</div> /bbs/movie/M.1694784041.A.89F.html [公告] 禁政治版規 及 投票結果\n"
          ]
        }
      ]
    },
    {
      "cell_type": "code",
      "source": [
        "len(soup.find_all('a', class_='btn wide'))"
      ],
      "metadata": {
        "colab": {
          "base_uri": "https://localhost:8080/"
        },
        "id": "XaCuEa47C4iA",
        "outputId": "1fa47708-f6fa-443d-8b8b-5746d132e49a"
      },
      "execution_count": 22,
      "outputs": [
        {
          "output_type": "execute_result",
          "data": {
            "text/plain": [
              "3"
            ]
          },
          "metadata": {},
          "execution_count": 22
        }
      ]
    },
    {
      "cell_type": "code",
      "source": [
        "'https://www.ptt.cc' + soup.find_all('a', class_='btn wide')[1].get('href')"
      ],
      "metadata": {
        "colab": {
          "base_uri": "https://localhost:8080/",
          "height": 36
        },
        "id": "aBDJDB_uDKuJ",
        "outputId": "07025546-ea48-4453-af74-1bc20fd793d9"
      },
      "execution_count": 27,
      "outputs": [
        {
          "output_type": "execute_result",
          "data": {
            "text/plain": [
              "'https://www.ptt.cc/bbs/movie/index10542.html'"
            ],
            "application/vnd.google.colaboratory.intrinsic+json": {
              "type": "string"
            }
          },
          "metadata": {},
          "execution_count": 27
        }
      ]
    },
    {
      "cell_type": "code",
      "source": [
        "#電影版\n",
        "\n",
        "def get_article(url):\n",
        "    response = requests.get(url)\n",
        "    soup = BeautifulSoup(response.text, 'lxml')\n",
        "    for atcl in soup.find_all('div', class_='r-ent'):\n",
        "        if atcl.find('div', class_='title').a:\n",
        "            ttle = atcl.find('div', class_='title').a.text\n",
        "            hlink = 'https://www.ptt.cc' + soup.find_all('a', class_='btn wide')[1].get('href')\n",
        "        else:\n",
        "            ttle = atcl.find('div', class_='title').text\n",
        "            hlink = ''\n",
        "        date = atcl.find('div', class_='date').text\n",
        "        print(date, hlink, ttle)\n",
        "    url = 'https://www.ptt.cc' + soup.find_all('a', class_='btn wide')[1].get('href')\n",
        "    return url\n",
        "\n",
        "url = 'https://www.ptt.cc/bbs/Movie/index.html'\n",
        "for i in range (5):\n",
        "    url = get_article(url)"
      ],
      "metadata": {
        "colab": {
          "base_uri": "https://localhost:8080/"
        },
        "id": "S-xCrsMCDfmH",
        "outputId": "e77e18d9-51b9-4e10-b460-bdf0c5b3b873"
      },
      "execution_count": 34,
      "outputs": [
        {
          "output_type": "stream",
          "name": "stdout",
          "text": [
            " 3/25 https://www.ptt.cc/bbs/movie/index10542.html [請益] 月老 原著比電影好看很多嗎?\n",
            " 3/25 https://www.ptt.cc/bbs/movie/index10542.html [新聞] 星際寶貝選角太白爭議\n",
            " 3/25 https://www.ptt.cc/bbs/movie/index10542.html [討論] 你最喜歡王家衛東邪西毒的哪個角色?\n",
            " 9/04 https://www.ptt.cc/bbs/movie/index10542.html [公告] 電影板板規 2022/12/5\n",
            " 9/15 https://www.ptt.cc/bbs/movie/index10542.html [公告] 禁政治版規 及 投票結果\n",
            " 3/24 https://www.ptt.cc/bbs/movie/index10541.html [好慢雷]  Mikey 17\n",
            " 3/24 https://www.ptt.cc/bbs/movie/index10541.html [新聞] 大阪亞洲影展 「我家的事」4台灣演員同獲藥師真珠獎\n",
            " 3/24 https://www.ptt.cc/bbs/movie/index10541.html Re: [討論] 白雪公主該給誰演\n",
            " 3/25  \n",
            "\t\t\t\n",
            "\t\t\t\t(本文已被刪除) [XDGEE]\n",
            "\t\t\t\n",
            "\t\t\t\n",
            " 3/25 https://www.ptt.cc/bbs/movie/index10541.html [新聞] 新版《惡靈古堡》真人電影劇情曝光！主角\n",
            " 3/25 https://www.ptt.cc/bbs/movie/index10541.html [新聞] 伊莉莎白歐森想扮「老年版」緋紅女巫！喊\n",
            " 3/25 https://www.ptt.cc/bbs/movie/index10541.html [討論] 強納森梅傑斯「雜誌夢」爛番茄81%\n",
            " 3/25 https://www.ptt.cc/bbs/movie/index10541.html [討論] 變形金剛 萬獸崛起 \n",
            " 3/25 https://www.ptt.cc/bbs/movie/index10541.html [超好雷] 特洛伊：木馬屠城\n",
            " 3/25 https://www.ptt.cc/bbs/movie/index10541.html [討論] 伊麗莎白歐森說她不會演復5復6\n",
            " 3/25 https://www.ptt.cc/bbs/movie/index10541.html [討論] 關於進電影院這回事\n",
            " 3/25 https://www.ptt.cc/bbs/movie/index10541.html Re: [討論] 白雪公主該給誰演\n",
            " 3/25 https://www.ptt.cc/bbs/movie/index10541.html [新聞] 全新重啟版《神鬼傳奇》正式開拍 \n",
            " 3/25 https://www.ptt.cc/bbs/movie/index10541.html [新聞] 漫威MCU宇宙第七階段預計推出的四部電影\n",
            " 3/25 https://www.ptt.cc/bbs/movie/index10541.html [請益] 給我一首琴的時間 預告裡的英文歌是?\n",
            " 3/25 https://www.ptt.cc/bbs/movie/index10541.html Re: [討論] 變形金剛 萬獸崛起 \n",
            " 3/25 https://www.ptt.cc/bbs/movie/index10541.html [討論] 迪士尼公主哪個算是成功真人化？\n",
            " 3/25 https://www.ptt.cc/bbs/movie/index10541.html [新聞] 無懼膚色爭議 《白雪公主》穩坐台美票房\n",
            " 3/25 https://www.ptt.cc/bbs/movie/index10541.html [片單] 賺災難財的電影\n",
            " 3/25 https://www.ptt.cc/bbs/movie/index10541.html [新聞] 剛獲奧斯卡最佳紀錄片獎 巴勒斯坦導演遇襲後遭以軍逮捕\n",
            " 3/24 https://www.ptt.cc/bbs/movie/index10540.html [普雷] 妳是我眼中的蘋果-偶像劇框架的四不像\n",
            " 3/24 https://www.ptt.cc/bbs/movie/index10540.html [新聞] 《白雪公主》真人電影上映！ 爭議一籮筐\n",
            " 3/24 https://www.ptt.cc/bbs/movie/index10540.html [好雷] 《封神第二部：戰火西岐》比想像中有料\n",
            " 3/24 https://www.ptt.cc/bbs/movie/index10540.html [新聞] 約翰卡本特為奉俊昊下部電影配樂\n",
            " 3/24 https://www.ptt.cc/bbs/movie/index10540.html Re: [贈票] 究竟誰是兇手【無線殺機】北中南搶先看\n",
            " 3/24 https://www.ptt.cc/bbs/movie/index10540.html [新聞] 觀眾不買單！《白雪公主》首週北美票房\n",
            " 3/24 https://www.ptt.cc/bbs/movie/index10540.html [情報] 天作之合首支中文預告 \n",
            " 3/24 https://www.ptt.cc/bbs/movie/index10540.html [好雷] 【Queer】這種美，是醍醐灌頂的享受\n",
            " 3/24 https://www.ptt.cc/bbs/movie/index10540.html [討論] 真人化電影IMDB分數最後一名\n",
            " 3/24 https://www.ptt.cc/bbs/movie/index10540.html [普雷]《青春末世物語》體制、地震、成長痛\n",
            " 3/24 https://www.ptt.cc/bbs/movie/index10540.html [討論] 看過最爽的4DX電影\n",
            " 3/24  \n",
            "\t\t\t\n",
            "\t\t\t\t(本文已被刪除) [XDGEE]\n",
            "\t\t\t\n",
            "\t\t\t\n",
            " 3/24 https://www.ptt.cc/bbs/movie/index10540.html [新聞] 馬修麥康納支持「征服者康」繼續拍戲！超\n",
            " 3/24 https://www.ptt.cc/bbs/movie/index10540.html [新聞] 《白雪公主》票房創迪士尼新低！勞勃許奈\n",
            " 3/24 https://www.ptt.cc/bbs/movie/index10540.html [新聞] 迪士尼《白雪公主》爆好評！電影上映穩\n",
            " 3/24 https://www.ptt.cc/bbs/movie/index10540.html [普雷]《Queer》：老少男同志的中門對狙\n",
            " 3/24 https://www.ptt.cc/bbs/movie/index10540.html [新聞] IMDB評2.2分真人版「白雪公主」\n",
            " 3/24 https://www.ptt.cc/bbs/movie/index10540.html [問片] 想找一種類型的電影\n",
            " 3/24 https://www.ptt.cc/bbs/movie/index10540.html Re: [討論] 看過最爽的4DX電影\n",
            " 3/24 https://www.ptt.cc/bbs/movie/index10540.html [討論] 白雪公主該給誰演\n",
            " 3/23 https://www.ptt.cc/bbs/movie/index10539.html [普雷] 白雪公主\n",
            " 3/23 https://www.ptt.cc/bbs/movie/index10539.html [微好雷] 我們的故事未來待續\n",
            " 3/23 https://www.ptt.cc/bbs/movie/index10539.html [好雷] 白雪公主 (1937年版)\n",
            " 3/23 https://www.ptt.cc/bbs/movie/index10539.html [大爆雷] 小小的我\n",
            " 3/23 https://www.ptt.cc/bbs/movie/index10539.html [討論] 烏爾善的三部曲成本也太高了吧？\n",
            " 3/23 https://www.ptt.cc/bbs/movie/index10539.html [討論] Felicity Jones 有搞頭嗎\n",
            " 3/23 https://www.ptt.cc/bbs/movie/index10539.html [普好雷] 給我一首琴的時間-時機的浪漫變奏\n",
            " 3/23 https://www.ptt.cc/bbs/movie/index10539.html [情報] 3/23 當週12部新片預告+Youtube觀看排行\n",
            " 3/23 https://www.ptt.cc/bbs/movie/index10539.html [好無雷] 【不丹是幸福】沒有比較沒有傷害\n",
            " 3/24 https://www.ptt.cc/bbs/movie/index10539.html [好雷] 封神第二部：戰火西岐\n",
            " 3/24 https://www.ptt.cc/bbs/movie/index10539.html [新聞] 白雪公主首周4300萬美金\n",
            " 3/24 https://www.ptt.cc/bbs/movie/index10539.html [片單] 請問韓國搞笑片\n",
            " 3/24 https://www.ptt.cc/bbs/movie/index10539.html Re: [討論] 電影院是不是沒落了？\n",
            " 3/24 https://www.ptt.cc/bbs/movie/index10539.html [負雷]白雪公主2025電影版觀後感 \n",
            " 3/24 https://www.ptt.cc/bbs/movie/index10539.html Re: [討論] 電影院是不是沒落了？\n",
            " 3/24 https://www.ptt.cc/bbs/movie/index10539.html [新聞] 1937動畫《白雪公主》、2025電影真人版 \n",
            " 3/24 https://www.ptt.cc/bbs/movie/index10539.html [討論] 演員的肢體語言影響觀影感受\n",
            " 3/24 https://www.ptt.cc/bbs/movie/index10539.html [微好雷] 《吸血鬼：諾斯費拉圖》 \n",
            " 3/24 https://www.ptt.cc/bbs/movie/index10539.html Re: [討論] 電影院是不是沒落了？\n",
            " 3/24 https://www.ptt.cc/bbs/movie/index10539.html [請益] 老片重映的播放格式\n",
            " 3/23 https://www.ptt.cc/bbs/movie/index10538.html Re: [討論] 電影院是不是沒落了？\n",
            " 3/23 https://www.ptt.cc/bbs/movie/index10538.html [微好雷] 奧黛莎\n",
            " 3/23 https://www.ptt.cc/bbs/movie/index10538.html Re: [討論] 電影院是不是沒落了？\n",
            " 3/23 https://www.ptt.cc/bbs/movie/index10538.html Re: [討論] 國外白雪公主首映包場\n",
            " 3/23 https://www.ptt.cc/bbs/movie/index10538.html [好雷]封神二:戰火西岐 \n",
            " 3/23 https://www.ptt.cc/bbs/movie/index10538.html [新聞] 2025《白雪公主》靠5大超能力「逆轉勝」\n",
            " 3/23  \n",
            "\t\t\t\n",
            "\t\t\t\t(本文已被刪除) [dodoro1]\n",
            "\t\t\t\n",
            "\t\t\t\n",
            " 3/23  \n",
            "\t\t\t\n",
            "\t\t\t\t(本文已被刪除) [dodoro1]\n",
            "\t\t\t\n",
            "\t\t\t\n",
            " 3/23 https://www.ptt.cc/bbs/movie/index10538.html [新聞] 蘋果在串流媒體服務每年虧損超過10億美元\n",
            " 3/23  \n",
            "\t\t\t\n",
            "\t\t\t\t(本文已被刪除) [Angela]\n",
            "\t\t\t\n",
            "\t\t\t\n",
            " 3/23  \n",
            "\t\t\t\n",
            "\t\t\t\t(本文已被刪除) [Angela]\n",
            "\t\t\t\n",
            "\t\t\t\n",
            " 3/23 https://www.ptt.cc/bbs/movie/index10538.html Re: [討論] 電影院是不是沒落了？\n",
            " 3/23 https://www.ptt.cc/bbs/movie/index10538.html [討論] 大家一年看幾部電影？\n",
            " 3/23 https://www.ptt.cc/bbs/movie/index10538.html [片單] 韓國2024推薦\n",
            " 3/23 https://www.ptt.cc/bbs/movie/index10538.html [負雷] 六弄咖啡館什麼大爛片…\n",
            " 3/23 https://www.ptt.cc/bbs/movie/index10538.html [請益] YouTube都在黑白雪公主是怎樣\n",
            " 3/23 https://www.ptt.cc/bbs/movie/index10538.html [超好雷] 《青春末世物語》(HAPPYEND)\n",
            " 3/23 https://www.ptt.cc/bbs/movie/index10538.html [負雷] 《白雪公主》  毀滅童年的真人災難秀\n",
            " 3/23 https://www.ptt.cc/bbs/movie/index10538.html [好雷] 封神第二部：戰火西岐\n",
            " 3/23 https://www.ptt.cc/bbs/movie/index10538.html [負無雷] 大力水手：血腥菠菜\n"
          ]
        }
      ]
    },
    {
      "cell_type": "code",
      "source": [
        "#八卦版\n",
        "\n",
        "def get_article(url):\n",
        "    response = requests.get(url)\n",
        "    soup = BeautifulSoup(response.text, 'lxml')\n",
        "    for atcl in soup.find_all('div', class_='r-ent'):\n",
        "        if atcl.find('div', class_='title').a:\n",
        "            ttle = atcl.find('div', class_='title').a.text\n",
        "            hlink = 'https://www.ptt.cc' + soup.find_all('a', class_='btn wide')[1].get('href')\n",
        "        else:\n",
        "            ttle = atcl.find('div', class_='title').text\n",
        "            hlink = ''\n",
        "        date = atcl.find('div', class_='date').text\n",
        "        print(date, hlink, ttle)\n",
        "    url = 'https://www.ptt.cc' + soup.find_all('a', class_='btn wide')[1].get('href')\n",
        "    return url\n",
        "\n",
        "url = 'https://www.ptt.cc/bbs/Gossiping/index.html'\n",
        "for i in range (5):\n",
        "    url = get_article(url)"
      ],
      "metadata": {
        "colab": {
          "base_uri": "https://localhost:8080/"
        },
        "id": "CppVGz2HJ-pC",
        "outputId": "a79adcb4-729e-43b5-f021-e56ccd10edf6"
      },
      "execution_count": 38,
      "outputs": [
        {
          "output_type": "stream",
          "name": "stdout",
          "text": [
            " 3/25 https://www.ptt.cc/bbs/Gossiping/index39045.html Re: [問卦] 在中國宣揚台獨會怎麼樣\n",
            " 3/25 https://www.ptt.cc/bbs/Gossiping/index39045.html [問卦] 開獎看到這個如何調適\n",
            " 3/25 https://www.ptt.cc/bbs/Gossiping/index39045.html Re: [問卦]  我不認同你的觀點 但是我誓死捍衛你說\n",
            " 3/25 https://www.ptt.cc/bbs/Gossiping/index39045.html Re: [問卦]  我不認同你的觀點 但是我誓死捍衛你說\n",
            " 3/25 https://www.ptt.cc/bbs/Gossiping/index39045.html [問卦] 亞亞真的太蠢了\n",
            " 3/25 https://www.ptt.cc/bbs/Gossiping/index39045.html [問卦] 記者快來！中國網友一千留言要台灣放人\n",
            " 3/25 https://www.ptt.cc/bbs/Gossiping/index39045.html [問卦] 一輩子只能吃速食店怎麼選\n",
            " 3/25 https://www.ptt.cc/bbs/Gossiping/index39045.html [問卦] 小微跟恩綺現在在幹嘛？\n",
            " 3/25 https://www.ptt.cc/bbs/Gossiping/index39045.html [問卦] 金價會無止盡上漲嗎？\n",
            " 3/25 https://www.ptt.cc/bbs/Gossiping/index39045.html [問卦]比特犬咬人很多人說是養的人問題 也不去領\n",
            " 3/25 https://www.ptt.cc/bbs/Gossiping/index39045.html [新聞] 涮樂和牛羅東店食物中毒檢驗曝　疾管署：\n",
            " 3/25 https://www.ptt.cc/bbs/Gossiping/index39045.html Re: [問卦] 今天共配亞亞沒被強制出境 我就終身...\n",
            " 3/25 https://www.ptt.cc/bbs/Gossiping/index39045.html [問卦] 中共是敵國戰機越線怎麼不打下來\n",
            "11/02 https://www.ptt.cc/bbs/Gossiping/index39045.html Fw: [公告] 請留意新註冊帳號使用信件詐騙\n",
            " 1/21 https://www.ptt.cc/bbs/Gossiping/index39045.html [公告] 八卦板板規(2025.01.21)\n",
            " 2/20 https://www.ptt.cc/bbs/Gossiping/index39045.html [公告]  春季大反攻！！八卦板主徵選報名開始捏\n",
            " 3/12 https://www.ptt.cc/bbs/Gossiping/index39045.html Fw: [公告] 請避免與登入1次之帳號進行交易 發錢\n",
            " 3/25 https://www.ptt.cc/bbs/Gossiping/index39044.html [問卦] 中國官方怎麼看亞亞被送回國？\n",
            " 3/25 https://www.ptt.cc/bbs/Gossiping/index39044.html [問卦]  我不認同你的觀點 但是我誓死捍衛你說\n",
            " 3/25 https://www.ptt.cc/bbs/Gossiping/index39044.html Re: [問卦] 在中國宣揚台獨會怎麼樣\n",
            " 3/25 https://www.ptt.cc/bbs/Gossiping/index39044.html [問卦] 子爵夫人比「2」是什麼意思？\n",
            " 3/25 https://www.ptt.cc/bbs/Gossiping/index39044.html [問卦] 看不懂獵人是正常的嗎\n",
            " 3/25 https://www.ptt.cc/bbs/Gossiping/index39044.html [新聞] 普發1萬領得到？謝龍介說賴清德可能還會\n",
            " 3/25 https://www.ptt.cc/bbs/Gossiping/index39044.html [問卦] HPV 9價疫苗 打完第2劑後的防護力多少\n",
            " 3/25 https://www.ptt.cc/bbs/Gossiping/index39044.html [問卦] 公司地址宅配週六無法收，是誰的錯\n",
            " 3/25 https://www.ptt.cc/bbs/Gossiping/index39044.html Re: [問卦] 在中國宣揚台獨會怎麼樣\n",
            " 3/25 https://www.ptt.cc/bbs/Gossiping/index39044.html Re: [問卦]  我不認同你的觀點 但是我誓死捍衛你說\n",
            " 3/25 https://www.ptt.cc/bbs/Gossiping/index39044.html [問卦] 為什麼台灣網紅這麼重要？\n",
            " 3/25 https://www.ptt.cc/bbs/Gossiping/index39044.html [問卦] 減肥怎麼樣都減不下來？\n",
            " 3/25 https://www.ptt.cc/bbs/Gossiping/index39044.html [新聞] 林志潔遭質疑「請咖啡甜點換連署」 辯這\n",
            " 3/25 https://www.ptt.cc/bbs/Gossiping/index39044.html Re: [問卦] 亞亞的老公到底是誰？姓黃？姓余？\n",
            " 3/25 https://www.ptt.cc/bbs/Gossiping/index39044.html Re: [問卦] 在中國宣揚台獨會怎麼樣\n",
            " 3/25 https://www.ptt.cc/bbs/Gossiping/index39044.html [問卦] 亞亞今天23：59開始在廁所大便\n",
            " 3/25 https://www.ptt.cc/bbs/Gossiping/index39044.html [問卦] 亞亞的先生可以申請國賠嗎\n",
            " 3/25 https://www.ptt.cc/bbs/Gossiping/index39044.html [問卦] 我們與惡的距離II被目標觀眾群抵制了\n",
            " 3/25 https://www.ptt.cc/bbs/Gossiping/index39044.html Re: [問卦]  我不認同你的觀點 但是我誓死捍衛你說\n",
            " 3/25 https://www.ptt.cc/bbs/Gossiping/index39044.html Re: [問卦]  我不認同你的觀點 但是我誓死捍衛你說\n",
            " 3/25 https://www.ptt.cc/bbs/Gossiping/index39043.html Re: [問卦]亞亞最後絕招是不是只剩公開支持台獨\n",
            " 3/25 https://www.ptt.cc/bbs/Gossiping/index39043.html [問卦] 中國政府真的很有錢！！\n",
            " 3/25 https://www.ptt.cc/bbs/Gossiping/index39043.html [問卦] 還有人記得假電子發票和假環保袋嗎？\n",
            " 3/25 https://www.ptt.cc/bbs/Gossiping/index39043.html Re: [新聞] 「胖一點」能抗癌？醫證實：存活率比\n",
            " 3/25 https://www.ptt.cc/bbs/Gossiping/index39043.html [新聞] 快訊／東京地方法院下令「統一教」解散！\n",
            " 3/25 https://www.ptt.cc/bbs/Gossiping/index39043.html [問卦] 台灣9年來沒什麼變？\n",
            " 3/25 https://www.ptt.cc/bbs/Gossiping/index39043.html [新聞] 近三年預售屋賣約5.4兆元 業者：未來房\n",
            " 3/25 https://www.ptt.cc/bbs/Gossiping/index39043.html Re: [問卦] 華爾街日報：中國準備封鎖台灣？\n",
            " 3/25 https://www.ptt.cc/bbs/Gossiping/index39043.html [問卦] 吃到飽店員會不會很討厭只點同一樣東西的\n",
            " 3/25 https://www.ptt.cc/bbs/Gossiping/index39043.html Re: [問卦] 在中國宣揚台獨會怎麼樣\n",
            " 3/25 https://www.ptt.cc/bbs/Gossiping/index39043.html [問卦] 物價飆漲後，行情變得好亂\n",
            " 3/25 https://www.ptt.cc/bbs/Gossiping/index39043.html [問卦] 要是亞亞自殺的話 你各位都是殺人兇手\n",
            " 3/25 https://www.ptt.cc/bbs/Gossiping/index39043.html [新聞] 首購悲歌！千萬元內建案行政區剩9個 專家\n",
            " 3/25 https://www.ptt.cc/bbs/Gossiping/index39043.html [問卦] 亞亞是誰 很重要嗎？\n",
            " 3/25 https://www.ptt.cc/bbs/Gossiping/index39043.html [問卦] 台灣水價是不是真的非常的便宜？？\n",
            " 3/25 https://www.ptt.cc/bbs/Gossiping/index39043.html [問卦] 其實吃到飽吃太多真的會被黑名單嗎\n",
            " 3/25 https://www.ptt.cc/bbs/Gossiping/index39043.html [問卦] 有沒有換位置換腦袋怎麼調適的卦\n",
            " 3/25 https://www.ptt.cc/bbs/Gossiping/index39043.html [問卦] 宣揚五筒跟包大陸二奶哪個嚴重\n",
            " 3/25 https://www.ptt.cc/bbs/Gossiping/index39043.html Re: [問卦] 要是亞亞自殺的話 你各位都是殺人兇手\n",
            " 3/25 https://www.ptt.cc/bbs/Gossiping/index39043.html [問卦] 亞亞跟八炯 有沒有同文同種的味道\n",
            " 3/25 https://www.ptt.cc/bbs/Gossiping/index39042.html Re: [新聞] 快訊／大逆轉！借派出所臨停挨轟耍特權\n",
            " 3/25 https://www.ptt.cc/bbs/Gossiping/index39042.html [新聞] 很忙！出席藍罷團「地動刪瑤」總部　朱\n",
            " 3/25 https://www.ptt.cc/bbs/Gossiping/index39042.html [問卦] 哪時候才會重視工安？\n",
            " 3/25 https://www.ptt.cc/bbs/Gossiping/index39042.html [問卦] 劍湖山484快不行了？\n",
            " 3/25 https://www.ptt.cc/bbs/Gossiping/index39042.html [問卦] 喜歡泰國妹勝於日本妹正常嗎？\n",
            " 3/25 https://www.ptt.cc/bbs/Gossiping/index39042.html [問卦] 關稅戰開始了嗎\n",
            " 3/25 https://www.ptt.cc/bbs/Gossiping/index39042.html [問卦] 常把財富自由掛在嘴邊的工作有哪些？\n",
            " 3/25 https://www.ptt.cc/bbs/Gossiping/index39042.html [問卦] 謝祖武這輩子有沒有演過一個知名律師角色\n",
            " 3/25  \n",
            "\t\t\t\n",
            "\t\t\t\t(本文已被刪除) [toughlove]\n",
            "\t\t\t\n",
            "\t\t\t\n",
            " 3/25 https://www.ptt.cc/bbs/Gossiping/index39042.html [問卦] 如果一陣子沒中國新聞會怎樣\n",
            " 3/25 https://www.ptt.cc/bbs/Gossiping/index39042.html [新聞] 離台倒數！亞亞拒絕出境　移民署將強制\n",
            " 3/25 https://www.ptt.cc/bbs/Gossiping/index39042.html [問卦] 為什麼分享美食要放假臉\n",
            " 3/25 https://www.ptt.cc/bbs/Gossiping/index39042.html [問卦] 統整一下現在各地雞排都多少？\n",
            " 3/25 https://www.ptt.cc/bbs/Gossiping/index39042.html [問卦] 現下要怎麼省錢又吃出健康？\n",
            " 3/25 https://www.ptt.cc/bbs/Gossiping/index39042.html Re: [問卦] 兩岸戰爭 不靠美國台灣要如何才守得住？\n",
            " 3/25 https://www.ptt.cc/bbs/Gossiping/index39042.html [問卦] 甲片影劇為何台灣拍不贏泰國\n",
            " 3/25 https://www.ptt.cc/bbs/Gossiping/index39042.html [問卦] 金秀賢上台做什麼才能洗白？\n",
            " 3/25 https://www.ptt.cc/bbs/Gossiping/index39042.html [問卦] 讀復興中學的都是非富即貴嗎？\n",
            " 3/25 https://www.ptt.cc/bbs/Gossiping/index39042.html [問卦] 在中國宣揚台獨會怎麼樣\n",
            " 3/25 https://www.ptt.cc/bbs/Gossiping/index39042.html [問卦] 女生要是太緊 叫你憋一下先別射該怎辦?\n",
            " 3/25 https://www.ptt.cc/bbs/Gossiping/index39041.html [新聞] 國民黨曝：年輕人吹起「台灣人反綠」風\n",
            " 3/25  \n",
            "\t\t\t\n",
            "\t\t\t\t(本文已被刪除) [ar0387959310]\n",
            "\t\t\t\n",
            "\t\t\t\n",
            " 3/25 https://www.ptt.cc/bbs/Gossiping/index39041.html [問卦] 西班牙、荷蘭、法蘭西要武統台灣會怎樣\n",
            " 3/25 https://www.ptt.cc/bbs/Gossiping/index39041.html Re: [問卦] 沒人發現日本人莫名奇妙就跌落神壇了嗎！\n",
            " 3/25 https://www.ptt.cc/bbs/Gossiping/index39041.html Re: [問卦] 有蘋果筆電的人很愛拿出來秀?\n",
            " 3/25 https://www.ptt.cc/bbs/Gossiping/index39041.html [問卦] 孤獨美食家的主角還能吃幾年？\n",
            " 3/25 https://www.ptt.cc/bbs/Gossiping/index39041.html Re: [問卦] 捷運上一直咳又不帶口罩有心理疾病嗎\n",
            " 3/25 https://www.ptt.cc/bbs/Gossiping/index39041.html [問卦] 大家有多久沒中過統一發票?\n",
            " 3/25 https://www.ptt.cc/bbs/Gossiping/index39041.html [問卦] 蝦皮自取店 櫃位裡有不同人包裹？\n",
            " 3/25 https://www.ptt.cc/bbs/Gossiping/index39041.html [問卦] 太大會叫女友忍一下嗎？\n",
            " 3/25 https://www.ptt.cc/bbs/Gossiping/index39041.html [問卦] 為啥以前老闆不會用即時通辦公\n",
            " 3/25 https://www.ptt.cc/bbs/Gossiping/index39041.html [問卦] 多喝水真的有益身體健康嗎？  \n",
            " 3/25 https://www.ptt.cc/bbs/Gossiping/index39041.html [問卦] 羅傑的巔峰是在第一集嗎\n",
            " 3/25 https://www.ptt.cc/bbs/Gossiping/index39041.html [問卦] 行人專用號誌是萬靈丹嗎\n",
            " 3/25 https://www.ptt.cc/bbs/Gossiping/index39041.html [新聞] 槓陸配亞亞！　八炯、閩南狼衝內政部「\n",
            " 3/25 https://www.ptt.cc/bbs/Gossiping/index39041.html Re: [新聞] 藍提反廢死反戒嚴公投 卓榮泰盼能停止就\n",
            " 3/25 https://www.ptt.cc/bbs/Gossiping/index39041.html [問卦] 想對發票但還在上班\n",
            " 3/25 https://www.ptt.cc/bbs/Gossiping/index39041.html [問卦] 找越南妹當老婆要花多少錢\n",
            " 3/25 https://www.ptt.cc/bbs/Gossiping/index39041.html [問卦] 兩岸戰爭 不靠美國台灣要如何才守得住？\n",
            " 3/25 https://www.ptt.cc/bbs/Gossiping/index39041.html Re: [問卦] 日本最大的陵墓埋的是中國人呀\n"
          ]
        }
      ]
    }
  ]
}