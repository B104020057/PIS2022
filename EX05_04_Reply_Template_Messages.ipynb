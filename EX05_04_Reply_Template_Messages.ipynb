{
  "nbformat": 4,
  "nbformat_minor": 0,
  "metadata": {
    "colab": {
      "provenance": [],
      "authorship_tag": "ABX9TyMVPlMux2mID/gDWl9BjI35",
      "include_colab_link": true
    },
    "kernelspec": {
      "name": "python3",
      "display_name": "Python 3"
    },
    "language_info": {
      "name": "python"
    }
  },
  "cells": [
    {
      "cell_type": "markdown",
      "metadata": {
        "id": "view-in-github",
        "colab_type": "text"
      },
      "source": [
        "<a href=\"https://colab.research.google.com/github/B104020057/PIS2022/blob/main/EX05_04_Reply_Template_Messages.ipynb\" target=\"_parent\"><img src=\"https://colab.research.google.com/assets/colab-badge.svg\" alt=\"Open In Colab\"/></a>"
      ]
    },
    {
      "cell_type": "code",
      "execution_count": 1,
      "metadata": {
        "colab": {
          "base_uri": "https://localhost:8080/"
        },
        "id": "8aKCWVRpDNuK",
        "outputId": "9ce3a7cd-8ad9-4012-a56a-91d9c7f47904"
      },
      "outputs": [
        {
          "output_type": "stream",
          "name": "stdout",
          "text": [
            "\u001b[?25l   \u001b[90m━━━━━━━━━━━━━━━━━━━━━━━━━━━━━━━━━━━━━━━━\u001b[0m \u001b[32m0.0/776.1 kB\u001b[0m \u001b[31m?\u001b[0m eta \u001b[36m-:--:--\u001b[0m\r\u001b[2K   \u001b[91m━━━━━━━━━━━━━━━━━━━━━━━━━━━━━━━━━━━━━━━\u001b[0m\u001b[91m╸\u001b[0m \u001b[32m768.0/776.1 kB\u001b[0m \u001b[31m22.5 MB/s\u001b[0m eta \u001b[36m0:00:01\u001b[0m\r\u001b[2K   \u001b[90m━━━━━━━━━━━━━━━━━━━━━━━━━━━━━━━━━━━━━━━━\u001b[0m \u001b[32m776.1/776.1 kB\u001b[0m \u001b[31m13.6 MB/s\u001b[0m eta \u001b[36m0:00:00\u001b[0m\n",
            "\u001b[?25h\u001b[?25l   \u001b[90m━━━━━━━━━━━━━━━━━━━━━━━━━━━━━━━━━━━━━━━━\u001b[0m \u001b[32m0.0/165.6 kB\u001b[0m \u001b[31m?\u001b[0m eta \u001b[36m-:--:--\u001b[0m\r\u001b[2K   \u001b[90m━━━━━━━━━━━━━━━━━━━━━━━━━━━━━━━━━━━━━━━━\u001b[0m \u001b[32m165.6/165.6 kB\u001b[0m \u001b[31m10.9 MB/s\u001b[0m eta \u001b[36m0:00:00\u001b[0m\n",
            "\u001b[?25h"
          ]
        }
      ],
      "source": [
        "!pip install -q pyngrok flask_ngrok\n",
        "!pip install -q flask line-bot-sdk"
      ]
    },
    {
      "cell_type": "code",
      "source": [
        "from google. colab import userdata\n",
        "from pyngrok import ngrok\n",
        "from flask_ngrok import run_with_ngrok\n",
        "def ngrok_start():\n",
        "  ngrok.set_auth_token(userdata.get ('NGROK_AUTHTOKEN'))\n",
        "  ngrok.connect(5000)\n",
        "  run_with_ngrok(app)\n",
        "\n",
        "from flask import Flask, request,abort\n",
        "from linebot.v3 import WebhookHandler\n",
        "from linebot.v3.exceptions import InvalidSignatureError\n",
        "from linebot.v3.webhooks import MessageEvent, TextMessageContent\n",
        "from linebot.v3.messaging import (\n",
        "    Configuration, ApiClient, MessagingApi,\n",
        "    ReplyMessageRequest,\n",
        "    TextMessage,\n",
        "    TemplateMessage, ConfirmTemplate, MessageAction,\n",
        "    CarouselTemplate,\n",
        "    CarouselColumn,\n",
        "    URIAction,\n",
        "    LocationAction,\n",
        ")\n",
        "\n",
        "app= Flask(__name__)\n",
        "configuration = Configuration(access_token=userdata.get('LINE_TOKEN'))\n",
        "handler = WebhookHandler(userdata.get('LINE_CHANELSECRET'))\n",
        "\n",
        "@app.route(\"/callback\", methods=['POST'])\n",
        "def callback():\n",
        "  signature = request.headers['X-Line-Signature']\n",
        "  body = request.get_data(as_text=True)\n",
        "  try:\n",
        "    handler.handle(body, signature)\n",
        "  except InvalidSignatureError:\n",
        "    abort (400)\n",
        "  return 'OK'\n",
        "\n",
        "@handler.add(MessageEvent, message=TextMessageContent)\n",
        "def handle_message(event):\n",
        "  with ApiClient(configuration) as api_client:\n",
        "    line_bot_api = MessagingApi(api_client)\n",
        "\n",
        "    action = event.message.text\n",
        "    if action == 'confirm':\n",
        "      reply = TemplateMessage(\n",
        "        alt_text='這是確認視窗',\n",
        "        template = ConfirmTemplate(\n",
        "          text='你喜歡Pokemon嗎?',\n",
        "          actions=[\n",
        "             MessageAction(label=\"是\",text=\"我超喜歡Pokemon!\"),\n",
        "             MessageAction(label=\"否\",text=\"其實我非常喜歡,只是我要說不\")\n",
        "          ]\n",
        "        )\n",
        "      )\n",
        "    elif action == 'carousel':\n",
        "      carousel_template = CarouselTemplate(\n",
        "            columns=[\n",
        "                CarouselColumn(\n",
        "                  thumbnail_image_url='https://upload.wikimedia.org/wikipedia/zh/7/7d/Summer_Wars_poster.jpg',\n",
        "                  title='夏日大作戰',\n",
        "                  text='日本科幻浪漫電影',\n",
        "                  actions=[\n",
        "                    URIAction(label='維基百科',uri='https://zh.wikipedia.org/zh-tw/%E5%A4%8F%E6%97%A5%E5%A4%A7%E4%BD%9C%E6%88%B0'),\n",
        "                    MessageAction(label='投票',text='我投夏日大作戰一票!')\n",
        "                  ]\n",
        "               ),\n",
        "               CarouselColumn(\n",
        "                   thumbnail_image_url='https://upload.wikimedia.org/wikipedia/zh/thumb/4/4f/Castle_of_Cagliostro_poster.png/250px-Castle_of_Cagliostro_poster.png',\n",
        "                   title = '魯邦三世',\n",
        "                   text='日本動畫動作冒險喜劇電影',\n",
        "                   actions=[\n",
        "                       URIAction(label='f', uri='https://zh.wikipedia.org/zh-tw/%E9%AD%AF%E9%82%A6%E4%B8%89%E4%B8%96_%E5%8D%A1%E9%87%8C%E5%A5%A7%E6%96%AF%E7%89%B9%E7%BE%85%E4%B9%8B%E5%9F%8E'),\n",
        "                       MessageAction(label='投票',text='我投魯邦三世一票')\n",
        "                   ]\n",
        "               )\n",
        "            ]\n",
        "      )\n",
        "      reply = TemplateMessage(\n",
        "        alt_text='這是一個輪播視窗',\n",
        "        template=carousel_template\n",
        "      )\n",
        "    else:\n",
        "      reply = TextMessage(text='Thanks!')\n",
        "\n",
        "    line_bot_api.reply_message(\n",
        "        ReplyMessageRequest(\n",
        "            reply_token=event.reply_token,\n",
        "            messages=[\n",
        "                reply\n",
        "            ]\n",
        "        )\n",
        "    )\n",
        "\n",
        "ngrok_start()\n",
        "if __name__ == \"__main__\":\n",
        "  app.run()\n"
      ],
      "metadata": {
        "colab": {
          "base_uri": "https://localhost:8080/",
          "height": 332
        },
        "id": "Msjo7bGEDs7N",
        "outputId": "c5110648-f850-4ecc-9fc5-640a61667c30"
      },
      "execution_count": 2,
      "outputs": [
        {
          "output_type": "error",
          "ename": "SecretNotFoundError",
          "evalue": "Secret LINE_TOKEN does not exist.",
          "traceback": [
            "\u001b[0;31m---------------------------------------------------------------------------\u001b[0m",
            "\u001b[0;31mSecretNotFoundError\u001b[0m                       Traceback (most recent call last)",
            "\u001b[0;32m<ipython-input-2-1f2a5b829b76>\u001b[0m in \u001b[0;36m<cell line: 0>\u001b[0;34m()\u001b[0m\n\u001b[1;32m     23\u001b[0m \u001b[0;34m\u001b[0m\u001b[0m\n\u001b[1;32m     24\u001b[0m \u001b[0mapp\u001b[0m\u001b[0;34m=\u001b[0m \u001b[0mFlask\u001b[0m\u001b[0;34m(\u001b[0m\u001b[0m__name__\u001b[0m\u001b[0;34m)\u001b[0m\u001b[0;34m\u001b[0m\u001b[0;34m\u001b[0m\u001b[0m\n\u001b[0;32m---> 25\u001b[0;31m \u001b[0mconfiguration\u001b[0m \u001b[0;34m=\u001b[0m \u001b[0mConfiguration\u001b[0m\u001b[0;34m(\u001b[0m\u001b[0maccess_token\u001b[0m\u001b[0;34m=\u001b[0m\u001b[0muserdata\u001b[0m\u001b[0;34m.\u001b[0m\u001b[0mget\u001b[0m\u001b[0;34m(\u001b[0m\u001b[0;34m'LINE_TOKEN'\u001b[0m\u001b[0;34m)\u001b[0m\u001b[0;34m)\u001b[0m\u001b[0;34m\u001b[0m\u001b[0;34m\u001b[0m\u001b[0m\n\u001b[0m\u001b[1;32m     26\u001b[0m \u001b[0mhandler\u001b[0m \u001b[0;34m=\u001b[0m \u001b[0mWebhookHandler\u001b[0m\u001b[0;34m(\u001b[0m\u001b[0muserdata\u001b[0m\u001b[0;34m.\u001b[0m\u001b[0mget\u001b[0m\u001b[0;34m(\u001b[0m\u001b[0;34m'LINE_CHANELSECRET'\u001b[0m\u001b[0;34m)\u001b[0m\u001b[0;34m)\u001b[0m\u001b[0;34m\u001b[0m\u001b[0;34m\u001b[0m\u001b[0m\n\u001b[1;32m     27\u001b[0m \u001b[0;34m\u001b[0m\u001b[0m\n",
            "\u001b[0;32m/usr/local/lib/python3.11/dist-packages/google/colab/userdata.py\u001b[0m in \u001b[0;36mget\u001b[0;34m(key)\u001b[0m\n\u001b[1;32m     66\u001b[0m     \u001b[0;32mraise\u001b[0m \u001b[0mTimeoutException\u001b[0m\u001b[0;34m(\u001b[0m\u001b[0mkey\u001b[0m\u001b[0;34m)\u001b[0m\u001b[0;34m\u001b[0m\u001b[0;34m\u001b[0m\u001b[0m\n\u001b[1;32m     67\u001b[0m   \u001b[0;32mif\u001b[0m \u001b[0;32mnot\u001b[0m \u001b[0mresp\u001b[0m\u001b[0;34m.\u001b[0m\u001b[0mget\u001b[0m\u001b[0;34m(\u001b[0m\u001b[0;34m'exists'\u001b[0m\u001b[0;34m,\u001b[0m \u001b[0;32mFalse\u001b[0m\u001b[0;34m)\u001b[0m\u001b[0;34m:\u001b[0m\u001b[0;34m\u001b[0m\u001b[0;34m\u001b[0m\u001b[0m\n\u001b[0;32m---> 68\u001b[0;31m     \u001b[0;32mraise\u001b[0m \u001b[0mSecretNotFoundError\u001b[0m\u001b[0;34m(\u001b[0m\u001b[0mkey\u001b[0m\u001b[0;34m)\u001b[0m\u001b[0;34m\u001b[0m\u001b[0;34m\u001b[0m\u001b[0m\n\u001b[0m\u001b[1;32m     69\u001b[0m   \u001b[0;32mif\u001b[0m \u001b[0;32mnot\u001b[0m \u001b[0mresp\u001b[0m\u001b[0;34m.\u001b[0m\u001b[0mget\u001b[0m\u001b[0;34m(\u001b[0m\u001b[0;34m'access'\u001b[0m\u001b[0;34m,\u001b[0m \u001b[0;32mFalse\u001b[0m\u001b[0;34m)\u001b[0m\u001b[0;34m:\u001b[0m\u001b[0;34m\u001b[0m\u001b[0;34m\u001b[0m\u001b[0m\n\u001b[1;32m     70\u001b[0m     \u001b[0;32mraise\u001b[0m \u001b[0mNotebookAccessError\u001b[0m\u001b[0;34m(\u001b[0m\u001b[0mkey\u001b[0m\u001b[0;34m)\u001b[0m\u001b[0;34m\u001b[0m\u001b[0;34m\u001b[0m\u001b[0m\n",
            "\u001b[0;31mSecretNotFoundError\u001b[0m: Secret LINE_TOKEN does not exist."
          ]
        }
      ]
    }
  ]
}