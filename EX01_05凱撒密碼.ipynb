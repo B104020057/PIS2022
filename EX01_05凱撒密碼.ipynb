{
  "nbformat": 4,
  "nbformat_minor": 0,
  "metadata": {
    "colab": {
      "provenance": [],
      "authorship_tag": "ABX9TyNf8EKcVNywyXLt4kvv1CM5",
      "include_colab_link": true
    },
    "kernelspec": {
      "name": "python3",
      "display_name": "Python 3"
    },
    "language_info": {
      "name": "python"
    }
  },
  "cells": [
    {
      "cell_type": "markdown",
      "metadata": {
        "id": "view-in-github",
        "colab_type": "text"
      },
      "source": [
        "<a href=\"https://colab.research.google.com/github/B104020057/PIS2022/blob/main/EX01_05%E5%87%B1%E6%92%92%E5%AF%86%E7%A2%BC.ipynb\" target=\"_parent\"><img src=\"https://colab.research.google.com/assets/colab-badge.svg\" alt=\"Open In Colab\"/></a>"
      ]
    },
    {
      "cell_type": "code",
      "execution_count": 10,
      "metadata": {
        "colab": {
          "base_uri": "https://localhost:8080/"
        },
        "id": "afnv10JRCPVG",
        "outputId": "933cea91-7bae-4038-d7a0-da2c9db69455"
      },
      "outputs": [
        {
          "output_type": "stream",
          "name": "stdout",
          "text": [
            "d3\n",
            "l#dp#frqqlh\n",
            "i am connie\n"
          ]
        }
      ],
      "source": [
        "# 比如金鑰是2，a就等於c，b等於d，c等於e，以此類推。（金鑰很重要）\n",
        "\n",
        "# 題目：d7，d=解密（e=加密）金鑰=7\n",
        "# 輸入要加解密的文字\n",
        "# 輸出加密後/解密後的文字\n",
        "\n",
        "act = input()\n",
        "txt = input()\n",
        "\n",
        "act_type = act[0]\n",
        "key = int(act[1:])\n",
        "ntxt = ''\n",
        "\n",
        "if act_type == 'd':\n",
        "    for c in txt:\n",
        "        nc = ord(c) - key\n",
        "        ntxt += chr(nc)\n",
        "\n",
        "else:\n",
        "    for c in txt:\n",
        "        nc = ord(c) + key\n",
        "        ntxt += chr(nc)\n",
        "\n",
        "print(ntxt)\n",
        "\n",
        "# 加密輸入：\n",
        "# e3\n",
        "# i am connie\n",
        "# l#dp#frqqlh"
      ]
    },
    {
      "cell_type": "code",
      "source": [],
      "metadata": {
        "id": "X0pRZaIEJLDM"
      },
      "execution_count": null,
      "outputs": []
    }
  ]
}