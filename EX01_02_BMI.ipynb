{
  "nbformat": 4,
  "nbformat_minor": 0,
  "metadata": {
    "colab": {
      "provenance": [],
      "authorship_tag": "ABX9TyM29fGdvNWP21dzyLLSFdg/",
      "include_colab_link": true
    },
    "kernelspec": {
      "name": "python3",
      "display_name": "Python 3"
    },
    "language_info": {
      "name": "python"
    }
  },
  "cells": [
    {
      "cell_type": "markdown",
      "metadata": {
        "id": "view-in-github",
        "colab_type": "text"
      },
      "source": [
        "<a href=\"https://colab.research.google.com/github/B104020057/PIS2022/blob/main/EX01_02_BMI.ipynb\" target=\"_parent\"><img src=\"https://colab.research.google.com/assets/colab-badge.svg\" alt=\"Open In Colab\"/></a>"
      ]
    },
    {
      "cell_type": "code",
      "execution_count": 1,
      "metadata": {
        "colab": {
          "base_uri": "https://localhost:8080/"
        },
        "id": "1ehqz01WK2Zg",
        "outputId": "36f28176-5e66-483d-877c-0e41fb2ae8b4"
      },
      "outputs": [
        {
          "output_type": "stream",
          "name": "stdout",
          "text": [
            "weight(kg):58\n",
            "height(cm):169\n",
            "BMI: 20.3\n"
          ]
        }
      ],
      "source": [
        "# 取得身高體重\n",
        "# bmi計算方式\n",
        "# 輸出結果\n",
        "\n",
        "wt = float(input('weight(kg):'))\n",
        "ht = float(input('height(cm):'))\n",
        "bmi = wt / (ht/100)**2\n",
        "print('BMI:',round(bmi,1))"
      ]
    }
  ]
}