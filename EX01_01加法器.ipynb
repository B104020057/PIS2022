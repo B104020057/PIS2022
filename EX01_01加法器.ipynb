{
  "nbformat": 4,
  "nbformat_minor": 0,
  "metadata": {
    "colab": {
      "provenance": [],
      "authorship_tag": "ABX9TyOID+M6VHHz/D8hI+Ezxxbb",
      "include_colab_link": true
    },
    "kernelspec": {
      "name": "python3",
      "display_name": "Python 3"
    },
    "language_info": {
      "name": "python"
    }
  },
  "cells": [
    {
      "cell_type": "markdown",
      "metadata": {
        "id": "view-in-github",
        "colab_type": "text"
      },
      "source": [
        "<a href=\"https://colab.research.google.com/github/B104020057/PIS2022/blob/main/EX01_01%E5%8A%A0%E6%B3%95%E5%99%A8.ipynb\" target=\"_parent\"><img src=\"https://colab.research.google.com/assets/colab-badge.svg\" alt=\"Open In Colab\"/></a>"
      ]
    },
    {
      "cell_type": "code",
      "execution_count": 2,
      "metadata": {
        "colab": {
          "base_uri": "https://localhost:8080/"
        },
        "id": "2DtT0Vo4EG4f",
        "outputId": "ec42d05e-8fbb-4ec1-b4db-9b981bd3ad9c"
      },
      "outputs": [
        {
          "output_type": "stream",
          "name": "stdout",
          "text": [
            "3\n",
            "6\n",
            "9\n"
          ]
        }
      ],
      "source": [
        "# 取得整數一\n",
        "# 取得整數二\n",
        "# 輸出相加結果\n",
        "\n",
        "n1 = input()\n",
        "n2 = input()\n",
        "n1 = int(n1)\n",
        "n2 = int(n2)\n",
        "sum = n1 + n2\n",
        "print(sum)"
      ]
    }
  ]
}